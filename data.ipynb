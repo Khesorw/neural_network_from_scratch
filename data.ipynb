{
 "cells": [
  {
   "cell_type": "code",
   "execution_count": 35,
   "id": "47f13460",
   "metadata": {},
   "outputs": [
    {
     "name": "stdout",
     "output_type": "stream",
     "text": [
      "(1962, 3488, 3)\n"
     ]
    }
   ],
   "source": [
    "import imageio.v2 as imageio\n",
    "\n",
    "img = imageio.imread('ontario.jpg')\n",
    "\n",
    "print(img.shape)\n",
    "\n",
    "\n"
   ]
  },
  {
   "cell_type": "code",
   "execution_count": 9,
   "id": "06e4ea16",
   "metadata": {},
   "outputs": [
    {
     "name": "stdout",
     "output_type": "stream",
     "text": [
      "torch.Size([3, 1962, 3488])\n",
      "tensor([[[ 79,  78,  80,  ..., 171, 174, 177],\n",
      "         [ 78,  78,  76,  ..., 174, 176, 175],\n",
      "         [ 81,  83,  82,  ..., 177, 178, 176],\n",
      "         ...,\n",
      "         [ 30,  29,  31,  ...,  47,  44,  44],\n",
      "         [ 32,  31,  33,  ...,  50,  46,  44],\n",
      "         [ 32,  31,  33,  ...,  54,  49,  45]],\n",
      "\n",
      "        [[116, 113, 115,  ..., 191, 194, 197],\n",
      "         [115, 115, 113,  ..., 195, 197, 196],\n",
      "         [117, 119, 117,  ..., 198, 199, 197],\n",
      "         ...,\n",
      "         [ 53,  52,  54,  ...,  66,  65,  67],\n",
      "         [ 53,  54,  56,  ...,  71,  67,  65],\n",
      "         [ 53,  54,  56,  ...,  75,  70,  66]],\n",
      "\n",
      "        [[169, 167, 169,  ..., 224, 227, 230],\n",
      "         [168, 168, 166,  ..., 226, 228, 227],\n",
      "         [169, 171, 171,  ..., 229, 230, 228],\n",
      "         ...,\n",
      "         [ 71,  70,  72,  ...,  83,  82,  83],\n",
      "         [ 72,  72,  74,  ...,  88,  84,  84],\n",
      "         [ 72,  72,  74,  ...,  92,  87,  85]]], dtype=torch.uint8)\n"
     ]
    }
   ],
   "source": [
    "import torch\n",
    "img = torch.from_numpy(img)\n",
    "out = img.permute(2,0,1)\n",
    "print(out.shape)\n",
    "print(out)\n",
    "\n"
   ]
  },
  {
   "cell_type": "code",
   "execution_count": 13,
   "id": "834fda53",
   "metadata": {},
   "outputs": [
    {
     "name": "stdout",
     "output_type": "stream",
     "text": [
      "index 0 value is 1 and key is hello\n",
      "index 1 value is 2001 and key is year\n",
      "index 2 value is 4 and key is name\n"
     ]
    }
   ],
   "source": [
    "batch_num = 3\n",
    "\n",
    "test = {'hello':1,\"year\":2001,\"name\":4}\n",
    "\n",
    "for i, (k,v) in enumerate(test.items()):\n",
    "    print(f'index {i} value is {v} and key is {k}')\n",
    "    "
   ]
  },
  {
   "cell_type": "code",
   "execution_count": 34,
   "id": "cf7ddf8a",
   "metadata": {},
   "outputs": [
    {
     "name": "stdout",
     "output_type": "stream",
     "text": [
      "torch.Size([3, 3, 256, 256])\n"
     ]
    }
   ],
   "source": [
    "batch = torch.zeros(batch_num,3,256,256,dtype=torch.uint8)\n",
    "print(batch.shape)\n",
    "\n",
    "# print(batch)"
   ]
  },
  {
   "cell_type": "code",
   "execution_count": null,
   "id": "f004b0ad",
   "metadata": {},
   "outputs": [],
   "source": [
    "batch = batch.float()\n",
    "\n",
    "batch /= 255.0"
   ]
  },
  {
   "cell_type": "code",
   "execution_count": 45,
   "id": "f81c8305",
   "metadata": {},
   "outputs": [],
   "source": [
    "from torchvision import transforms as T"
   ]
  },
  {
   "cell_type": "code",
   "execution_count": 49,
   "id": "daa3fa42",
   "metadata": {},
   "outputs": [
    {
     "name": "stdout",
     "output_type": "stream",
     "text": [
      "porcessing batch completed\n"
     ]
    }
   ],
   "source": [
    "import os\n",
    "\n",
    "data_dir = r'C:\\Users\\khesr\\Pictures\\Cities'\n",
    "\n",
    "prin = os.listdir(data_dir)\n",
    "\n",
    "# print(os.path.splitext(prin[0]))\n",
    "x = os.path.splitext(prin[0])\n",
    "\n",
    "names = [name for name in os.listdir(data_dir) if os.path.splitext(name)[-1].lower() in ('.jpg','.png')]\n",
    "\n",
    "#batch input image\n",
    "batch_size = len(names)\n",
    "batch = torch.zeros(batch_size, 3, 256, 256, dtype=torch.float32)\n",
    "\n",
    "\n",
    "transform = T.Compose([\n",
    "    T.ToPILImage(),\n",
    "    T.Resize((256, 256)),   # force all images to 256×256\n",
    "    T.ToTensor()            # back to tensor [0,1]\n",
    "])\n",
    "\n",
    "# print(names)\n",
    "\n",
    "\n",
    "for i, filename in enumerate(names):\n",
    "    img = imageio.imread(os.path.join(data_dir,filename))\n",
    "    img_t = torch.from_numpy(img)\n",
    "    img_t = img_t.permute(2,0,1)[:3]\n",
    "    img_t = transform(img_t.byte())\n",
    "    batch[i] = img_t\n",
    "\n",
    "    \n",
    "\n",
    "print('porcessing batch completed')"
   ]
  },
  {
   "cell_type": "code",
   "execution_count": 51,
   "id": "076e0381",
   "metadata": {},
   "outputs": [
    {
     "name": "stdout",
     "output_type": "stream",
     "text": [
      "tensor([[[[0.0431, 0.0471, 0.0549,  ..., 0.4941, 0.5333, 0.5647],\n",
      "          [0.0431, 0.0471, 0.0549,  ..., 0.5098, 0.5647, 0.5961],\n",
      "          [0.0431, 0.0471, 0.0549,  ..., 0.5216, 0.5843, 0.6275],\n",
      "          ...,\n",
      "          [0.2471, 0.2510, 0.2510,  ..., 0.2784, 0.2706, 0.2392],\n",
      "          [0.2392, 0.2471, 0.2549,  ..., 0.2980, 0.2863, 0.2549],\n",
      "          [0.2431, 0.2510, 0.2549,  ..., 0.3137, 0.2980, 0.2745]],\n",
      "\n",
      "         [[0.0353, 0.0353, 0.0353,  ..., 0.4588, 0.5020, 0.5255],\n",
      "          [0.0353, 0.0353, 0.0353,  ..., 0.4706, 0.5255, 0.5529],\n",
      "          [0.0353, 0.0353, 0.0353,  ..., 0.4784, 0.5412, 0.5804],\n",
      "          ...,\n",
      "          [0.2824, 0.2784, 0.2745,  ..., 0.2627, 0.2510, 0.2196],\n",
      "          [0.2745, 0.2745, 0.2745,  ..., 0.2863, 0.2745, 0.2431],\n",
      "          [0.2784, 0.2745, 0.2706,  ..., 0.3020, 0.2863, 0.2627]],\n",
      "\n",
      "         [[0.0392, 0.0353, 0.0275,  ..., 0.4275, 0.4275, 0.4235],\n",
      "          [0.0392, 0.0353, 0.0275,  ..., 0.4471, 0.4627, 0.4588],\n",
      "          [0.0392, 0.0353, 0.0275,  ..., 0.4588, 0.4824, 0.4902],\n",
      "          ...,\n",
      "          [0.1608, 0.1569, 0.1569,  ..., 0.2353, 0.2275, 0.1961],\n",
      "          [0.1529, 0.1569, 0.1569,  ..., 0.2588, 0.2471, 0.2157],\n",
      "          [0.1647, 0.1647, 0.1647,  ..., 0.2745, 0.2588, 0.2353]]]])\n"
     ]
    }
   ],
   "source": [
    "print(batch[[0]])"
   ]
  },
  {
   "cell_type": "code",
   "execution_count": 57,
   "id": "11bf447a",
   "metadata": {},
   "outputs": [
    {
     "name": "stdout",
     "output_type": "stream",
     "text": [
      "std completedd\n"
     ]
    }
   ],
   "source": [
    "# print(range(batch.shape[1])\n",
    "for c in range(batch.shape[1]):\n",
    "    mean = torch.mean(batch[:,c])\n",
    "    std = torch.std(batch[:,c])\n",
    "    batch[:,c] = (batch[:,c] - mean ) / std\n",
    "\n",
    "\n",
    "print('std completedd')\n"
   ]
  },
  {
   "cell_type": "code",
   "execution_count": 3,
   "id": "b8df5c02",
   "metadata": {},
   "outputs": [],
   "source": [
    "import requests\n",
    "\n",
    "url = \"https://archive.ics.uci.edu/ml/machine-learning-databases/wine-quality/winequality-white.csv\"\n",
    "filename = \"winequality-white.csv\"\n",
    "\n",
    "\n",
    "\n",
    "# response = requests.get(url)\n",
    "\n",
    "# if response.status_code == 200:\n",
    "#     with open(filename, 'wb') as f:\n",
    "#         f.write(response.content)\n",
    "#     print(f\"Downloaded successfully and saved as '{filename}'.\")\n",
    "# else:\n",
    "#     print(f\"Failed to download. Status code: {response.status_code}\")\n"
   ]
  },
  {
   "cell_type": "code",
   "execution_count": null,
   "id": "42edc8ee",
   "metadata": {},
   "outputs": [
    {
     "name": "stdout",
     "output_type": "stream",
     "text": [
      "file downloaded successfully winequality-white.csv\n"
     ]
    }
   ],
   "source": [
    "import pandas as pd\n",
    "\n",
    "response = requests.get(url)\n",
    "\n",
    "if response.status_code == 200:\n",
    "    with open(filename, 'wb') as f:\n",
    "        f.write(response.content)\n",
    "    print(f'file downloaded successfully {filename}')\n",
    "\n",
    "else:\n",
    "    print(f'failed to download the file')\n",
    "\n",
    "\n",
    "\n"
   ]
  },
  {
   "cell_type": "code",
   "execution_count": 9,
   "id": "61a893b0",
   "metadata": {},
   "outputs": [
    {
     "name": "stdout",
     "output_type": "stream",
     "text": [
      "<class 'pandas.core.frame.DataFrame'>\n",
      "RangeIndex: 4898 entries, 0 to 4897\n",
      "Data columns (total 12 columns):\n",
      " #   Column                Non-Null Count  Dtype  \n",
      "---  ------                --------------  -----  \n",
      " 0   fixed acidity         4898 non-null   float64\n",
      " 1   volatile acidity      4898 non-null   float64\n",
      " 2   citric acid           4898 non-null   float64\n",
      " 3   residual sugar        4898 non-null   float64\n",
      " 4   chlorides             4898 non-null   float64\n",
      " 5   free sulfur dioxide   4898 non-null   float64\n",
      " 6   total sulfur dioxide  4898 non-null   float64\n",
      " 7   density               4898 non-null   float64\n",
      " 8   pH                    4898 non-null   float64\n",
      " 9   sulphates             4898 non-null   float64\n",
      " 10  alcohol               4898 non-null   float64\n",
      " 11  quality               4898 non-null   int64  \n",
      "dtypes: float64(11), int64(1)\n",
      "memory usage: 459.3 KB\n",
      "None\n"
     ]
    }
   ],
   "source": [
    "wine = pd.read_csv('winequality-white.csv',sep=';')\n",
    "print(wine.info())"
   ]
  },
  {
   "cell_type": "code",
   "execution_count": 11,
   "id": "be014da1",
   "metadata": {},
   "outputs": [
    {
     "name": "stdout",
     "output_type": "stream",
     "text": [
      "[[ 7.    0.27  0.36 ...  0.45  8.8   6.  ]\n",
      " [ 6.3   0.3   0.34 ...  0.49  9.5   6.  ]\n",
      " [ 8.1   0.28  0.4  ...  0.44 10.1   6.  ]\n",
      " ...\n",
      " [ 6.5   0.24  0.19 ...  0.46  9.4   6.  ]\n",
      " [ 5.5   0.29  0.3  ...  0.38 12.8   7.  ]\n",
      " [ 6.    0.21  0.38 ...  0.32 11.8   6.  ]]\n"
     ]
    }
   ],
   "source": [
    "import numpy as np \n",
    "win = np.loadtxt('winequality-white.csv',delimiter=';',dtype=np.float32,skiprows=1)\n",
    "print(win)"
   ]
  },
  {
   "cell_type": "code",
   "execution_count": 12,
   "id": "7b5b0216",
   "metadata": {},
   "outputs": [
    {
     "name": "stdout",
     "output_type": "stream",
     "text": [
      "type of win_t is torch.float32 and type of win is float32\n"
     ]
    }
   ],
   "source": [
    "import torch\n",
    "\n",
    "win_t = torch.from_numpy(win)\n",
    "print(f'type of win_t is {win_t.dtype} and type of win is {win.dtype}')"
   ]
  },
  {
   "cell_type": "markdown",
   "id": "e1deb21f",
   "metadata": {},
   "source": [
    "Time Series Data\n"
   ]
  },
  {
   "cell_type": "code",
   "execution_count": 1,
   "id": "945ce2d3",
   "metadata": {},
   "outputs": [
    {
     "name": "stdout",
     "output_type": "stream",
     "text": [
      "{'uci_id': 275, 'name': 'Bike Sharing', 'repository_url': 'https://archive.ics.uci.edu/dataset/275/bike+sharing+dataset', 'data_url': 'https://archive.ics.uci.edu/static/public/275/data.csv', 'abstract': 'This dataset contains the hourly and daily count of rental bikes between years 2011 and 2012 in Capital bikeshare system with the corresponding weather and seasonal information.', 'area': 'Social Science', 'tasks': ['Regression'], 'characteristics': ['Multivariate'], 'num_instances': 17389, 'num_features': 13, 'feature_types': ['Integer', 'Real'], 'demographics': [], 'target_col': ['cnt'], 'index_col': ['instant'], 'has_missing_values': 'no', 'missing_values_symbol': None, 'year_of_dataset_creation': 2013, 'last_updated': 'Sun Mar 10 2024', 'dataset_doi': '10.24432/C5W894', 'creators': ['Hadi Fanaee-T'], 'intro_paper': {'ID': 422, 'type': 'NATIVE', 'title': 'Event labeling combining ensemble detectors and background knowledge', 'authors': 'Hadi Fanaee-T, João Gama', 'venue': 'Progress in Artificial Intelligence', 'year': 2013, 'journal': None, 'DOI': '10.1007/s13748-013-0040-3', 'URL': 'https://www.semanticscholar.org/paper/bc42899f599d31a5d759f3e0a3ea8b52479d6423', 'sha': None, 'corpus': None, 'arxiv': None, 'mag': None, 'acl': None, 'pmid': None, 'pmcid': None}, 'additional_info': {'summary': 'Bike sharing systems are new generation of traditional bike rentals where whole process from membership, rental and return back has become automatic. Through these systems, user is able to easily rent a bike from a particular position and return back at another position. Currently, there are about over 500 bike-sharing programs around the world which is composed of over 500 thousands bicycles. Today, there exists great interest in these systems due to their important role in traffic, environmental and health issues. \\r\\n\\r\\nApart from interesting real world applications of bike sharing systems, the characteristics of data being generated by these systems make them attractive for the research. Opposed to other transport services such as bus or subway, the duration of travel, departure and arrival position is explicitly recorded in these systems. This feature turns bike sharing system into a virtual sensor network that can be used for sensing mobility in the city. Hence, it is expected that most of important events in the city could be detected via monitoring these data.', 'purpose': None, 'funded_by': None, 'instances_represent': None, 'recommended_data_splits': None, 'sensitive_data': None, 'preprocessing_description': None, 'variable_info': 'Both hour.csv and day.csv have the following fields, except hr which is not available in day.csv\\r\\n\\t\\r\\n\\t- instant: record index\\r\\n\\t- dteday : date\\r\\n\\t- season : season (1:winter, 2:spring, 3:summer, 4:fall)\\r\\n\\t- yr : year (0: 2011, 1:2012)\\r\\n\\t- mnth : month ( 1 to 12)\\r\\n\\t- hr : hour (0 to 23)\\r\\n\\t- holiday : weather day is holiday or not (extracted from http://dchr.dc.gov/page/holiday-schedule)\\r\\n\\t- weekday : day of the week\\r\\n\\t- workingday : if day is neither weekend nor holiday is 1, otherwise is 0.\\r\\n\\t+ weathersit : \\r\\n\\t\\t- 1: Clear, Few clouds, Partly cloudy, Partly cloudy\\r\\n\\t\\t- 2: Mist + Cloudy, Mist + Broken clouds, Mist + Few clouds, Mist\\r\\n\\t\\t- 3: Light Snow, Light Rain + Thunderstorm + Scattered clouds, Light Rain + Scattered clouds\\r\\n\\t\\t- 4: Heavy Rain + Ice Pallets + Thunderstorm + Mist, Snow + Fog\\r\\n\\t- temp : Normalized temperature in Celsius. The values are derived via (t-t_min)/(t_max-t_min), t_min=-8, t_max=+39 (only in hourly scale)\\r\\n\\t- atemp: Normalized feeling temperature in Celsius. The values are derived via (t-t_min)/(t_max-t_min), t_min=-16, t_max=+50 (only in hourly scale)\\r\\n\\t- hum: Normalized humidity. The values are divided to 100 (max)\\r\\n\\t- windspeed: Normalized wind speed. The values are divided to 67 (max)\\r\\n\\t- casual: count of casual users\\r\\n\\t- registered: count of registered users\\r\\n\\t- cnt: count of total rental bikes including both casual and registered\\r\\n', 'citation': None}}\n",
      "          name     role         type demographic  \\\n",
      "0      instant       ID      Integer        None   \n",
      "1       dteday  Feature         Date        None   \n",
      "2       season  Feature  Categorical        None   \n",
      "3           yr  Feature  Categorical        None   \n",
      "4         mnth  Feature  Categorical        None   \n",
      "5           hr  Feature  Categorical        None   \n",
      "6      holiday  Feature       Binary        None   \n",
      "7      weekday  Feature  Categorical        None   \n",
      "8   workingday  Feature       Binary        None   \n",
      "9   weathersit  Feature  Categorical        None   \n",
      "10        temp  Feature   Continuous        None   \n",
      "11       atemp  Feature   Continuous        None   \n",
      "12         hum  Feature   Continuous        None   \n",
      "13   windspeed  Feature   Continuous        None   \n",
      "14      casual    Other      Integer        None   \n",
      "15  registered    Other      Integer        None   \n",
      "16         cnt   Target      Integer        None   \n",
      "\n",
      "                                          description units missing_values  \n",
      "0                                        record index  None             no  \n",
      "1                                                date  None             no  \n",
      "2                1:winter, 2:spring, 3:summer, 4:fall  None             no  \n",
      "3                             year (0: 2011, 1: 2012)  None             no  \n",
      "4                                     month (1 to 12)  None             no  \n",
      "5                                      hour (0 to 23)  None             no  \n",
      "6   weather day is holiday or not (extracted from ...  None             no  \n",
      "7                                     day of the week  None             no  \n",
      "8   if day is neither weekend nor holiday is 1, ot...  None             no  \n",
      "9   - 1: Clear, Few clouds, Partly cloudy, Partly ...  None             no  \n",
      "10  Normalized temperature in Celsius. The values ...     C             no  \n",
      "11  Normalized feeling temperature in Celsius. The...     C             no  \n",
      "12  Normalized humidity. The values are divided to...  None             no  \n",
      "13  Normalized wind speed. The values are divided ...  None             no  \n",
      "14                              count of casual users  None             no  \n",
      "15                          count of registered users  None             no  \n",
      "16  count of total rental bikes including both cas...  None             no  \n"
     ]
    }
   ],
   "source": [
    "from ucimlrepo import fetch_ucirepo \n",
    "  \n",
    "# fetch dataset \n",
    "bike_sharing = fetch_ucirepo(id=275) \n",
    "  \n",
    "# data (as pandas dataframes) \n",
    "X = bike_sharing.data.features \n",
    "y = bike_sharing.data.targets \n",
    "  \n",
    "# metadata \n",
    "print(bike_sharing.metadata) \n",
    "  \n",
    "# variable information \n",
    "print(bike_sharing.variables) \n"
   ]
  },
  {
   "cell_type": "code",
   "execution_count": null,
   "id": "b1288282",
   "metadata": {},
   "outputs": [
    {
     "name": "stdout",
     "output_type": "stream",
     "text": [
      "<class 'ucimlrepo.dotdict.dotdict'>\n"
     ]
    }
   ],
   "source": [
    "X"
   ]
  },
  {
   "cell_type": "code",
   "execution_count": 12,
   "id": "81d13b6c",
   "metadata": {},
   "outputs": [
    {
     "data": {
      "application/vnd.microsoft.datawrangler.viewer.v0+json": {
       "columns": [
        {
         "name": "index",
         "rawType": "int64",
         "type": "integer"
        },
        {
         "name": "cnt",
         "rawType": "int64",
         "type": "integer"
        }
       ],
       "ref": "1c690327-83ff-4a7d-a8a6-6b29985370ca",
       "rows": [
        [
         "0",
         "16"
        ],
        [
         "1",
         "40"
        ],
        [
         "2",
         "32"
        ],
        [
         "3",
         "13"
        ],
        [
         "4",
         "1"
        ],
        [
         "5",
         "1"
        ],
        [
         "6",
         "2"
        ],
        [
         "7",
         "3"
        ],
        [
         "8",
         "8"
        ],
        [
         "9",
         "14"
        ],
        [
         "10",
         "36"
        ],
        [
         "11",
         "56"
        ],
        [
         "12",
         "84"
        ],
        [
         "13",
         "94"
        ],
        [
         "14",
         "106"
        ],
        [
         "15",
         "110"
        ],
        [
         "16",
         "93"
        ],
        [
         "17",
         "67"
        ],
        [
         "18",
         "35"
        ],
        [
         "19",
         "37"
        ],
        [
         "20",
         "36"
        ],
        [
         "21",
         "34"
        ],
        [
         "22",
         "28"
        ],
        [
         "23",
         "39"
        ],
        [
         "24",
         "17"
        ],
        [
         "25",
         "17"
        ],
        [
         "26",
         "9"
        ],
        [
         "27",
         "6"
        ],
        [
         "28",
         "3"
        ],
        [
         "29",
         "2"
        ],
        [
         "30",
         "1"
        ],
        [
         "31",
         "8"
        ],
        [
         "32",
         "20"
        ],
        [
         "33",
         "53"
        ],
        [
         "34",
         "70"
        ],
        [
         "35",
         "93"
        ],
        [
         "36",
         "75"
        ],
        [
         "37",
         "59"
        ],
        [
         "38",
         "74"
        ],
        [
         "39",
         "76"
        ],
        [
         "40",
         "65"
        ],
        [
         "41",
         "53"
        ],
        [
         "42",
         "30"
        ],
        [
         "43",
         "22"
        ],
        [
         "44",
         "31"
        ],
        [
         "45",
         "9"
        ],
        [
         "46",
         "8"
        ],
        [
         "47",
         "5"
        ],
        [
         "48",
         "2"
        ],
        [
         "49",
         "1"
        ]
       ],
       "shape": {
        "columns": 1,
        "rows": 17379
       }
      },
      "text/html": [
       "<div>\n",
       "<style scoped>\n",
       "    .dataframe tbody tr th:only-of-type {\n",
       "        vertical-align: middle;\n",
       "    }\n",
       "\n",
       "    .dataframe tbody tr th {\n",
       "        vertical-align: top;\n",
       "    }\n",
       "\n",
       "    .dataframe thead th {\n",
       "        text-align: right;\n",
       "    }\n",
       "</style>\n",
       "<table border=\"1\" class=\"dataframe\">\n",
       "  <thead>\n",
       "    <tr style=\"text-align: right;\">\n",
       "      <th></th>\n",
       "      <th>cnt</th>\n",
       "    </tr>\n",
       "  </thead>\n",
       "  <tbody>\n",
       "    <tr>\n",
       "      <th>0</th>\n",
       "      <td>16</td>\n",
       "    </tr>\n",
       "    <tr>\n",
       "      <th>1</th>\n",
       "      <td>40</td>\n",
       "    </tr>\n",
       "    <tr>\n",
       "      <th>2</th>\n",
       "      <td>32</td>\n",
       "    </tr>\n",
       "    <tr>\n",
       "      <th>3</th>\n",
       "      <td>13</td>\n",
       "    </tr>\n",
       "    <tr>\n",
       "      <th>4</th>\n",
       "      <td>1</td>\n",
       "    </tr>\n",
       "    <tr>\n",
       "      <th>...</th>\n",
       "      <td>...</td>\n",
       "    </tr>\n",
       "    <tr>\n",
       "      <th>17374</th>\n",
       "      <td>119</td>\n",
       "    </tr>\n",
       "    <tr>\n",
       "      <th>17375</th>\n",
       "      <td>89</td>\n",
       "    </tr>\n",
       "    <tr>\n",
       "      <th>17376</th>\n",
       "      <td>90</td>\n",
       "    </tr>\n",
       "    <tr>\n",
       "      <th>17377</th>\n",
       "      <td>61</td>\n",
       "    </tr>\n",
       "    <tr>\n",
       "      <th>17378</th>\n",
       "      <td>49</td>\n",
       "    </tr>\n",
       "  </tbody>\n",
       "</table>\n",
       "<p>17379 rows × 1 columns</p>\n",
       "</div>"
      ],
      "text/plain": [
       "       cnt\n",
       "0       16\n",
       "1       40\n",
       "2       32\n",
       "3       13\n",
       "4        1\n",
       "...    ...\n",
       "17374  119\n",
       "17375   89\n",
       "17376   90\n",
       "17377   61\n",
       "17378   49\n",
       "\n",
       "[17379 rows x 1 columns]"
      ]
     },
     "execution_count": 12,
     "metadata": {},
     "output_type": "execute_result"
    }
   ],
   "source": [
    "y"
   ]
  },
  {
   "cell_type": "code",
   "execution_count": 8,
   "id": "d095feb1",
   "metadata": {},
   "outputs": [
    {
     "name": "stdout",
     "output_type": "stream",
     "text": [
      "<class 'pandas.core.frame.DataFrame'>\n"
     ]
    }
   ],
   "source": [
    "print(type(X))"
   ]
  },
  {
   "cell_type": "code",
   "execution_count": 10,
   "id": "046d761b",
   "metadata": {},
   "outputs": [
    {
     "name": "stdout",
     "output_type": "stream",
     "text": [
      "       dteday  season  yr  mnth  hr  holiday  weekday  workingday  weathersit  temp   atemp   hum  windspeed\n",
      "0  2011-01-01       1   0     1   0        0        6           0           1  0.24  0.2879  0.81        0.0\n",
      "1  2011-01-01       1   0     1   1        0        6           0           1  0.22  0.2727  0.80        0.0\n",
      "2  2011-01-01       1   0     1   2        0        6           0           1  0.22  0.2727  0.80        0.0\n"
     ]
    }
   ],
   "source": [
    "print(X[:3].to_string())"
   ]
  },
  {
   "cell_type": "code",
   "execution_count": null,
   "id": "c1be19d6",
   "metadata": {},
   "outputs": [
    {
     "data": {
      "image/png": "[encoded data removed]",
      "text/plain": [
       "<Figure size 640x480 with 1 Axes>"
      ]
     },
     "metadata": {},
     "output_type": "display_data"
    }
   ],
   "source": [
    "import matplotlib.pyplot as plt\n",
    "import torch \n",
    "t_c = [0.5, 14.0, 15.0, 28.0, 11.0, 8.0, 3.0, -4.0, 6.0, 13.0, 21.0]\n",
    "t_u = [35.7, 55.9, 58.2, 81.9, 56.3, 48.9, 33.9, 21.8, 48.4, 60.4, 68.4]\n",
    "\n",
    "t_c = torch.tensor(t_c)\n",
    "t_u = torch.tensor(t_u)\n",
    "\n",
    "\n",
    "plt.scatter(t_u.numpy(),t_c.numpy())\n",
    "plt.xlabel('measurment')\n",
    "plt.ylabel('Temperature')\n",
    "plt.grid()\n",
    "plt.show()"
   ]
  },
  {
   "cell_type": "code",
   "execution_count": 19,
   "id": "3ea0de85",
   "metadata": {},
   "outputs": [
    {
     "name": "stdout",
     "output_type": "stream",
     "text": [
      "tensor([1.0000, 1.7000, 2.4000, 3.1000, 3.8000, 4.5000])  shpe torch.Size([6])\n",
      "tensor([[1, 2, 3]])  shpe torch.Size([1, 3])\n"
     ]
    }
   ],
   "source": [
    "z = torch.arange(1,5,0.7)  #.unsqueeze(0)  # shape [1,3]\n",
    "\n",
    "print(z,' shpe',z.shape)\n",
    "\n",
    "\n",
    "z = torch.arange(1,4).unsqueeze(0)  # shape [1,3]\n",
    "print(z,' shpe',z.shape)\n"
   ]
  },
  {
   "cell_type": "code",
   "execution_count": 32,
   "id": "62389a65",
   "metadata": {},
   "outputs": [
    {
     "data": {
      "image/png": "[encoded data removed]",
      "text/plain": [
       "<Figure size 640x480 with 1 Axes>"
      ]
     },
     "metadata": {},
     "output_type": "display_data"
    }
   ],
   "source": [
    "import matplotlib.pyplot as plt\n",
    "import torch \n",
    "\n",
    "# Data\n",
    "t_c = [0.5, 14.0, 15.0, 28.0, 11.0, 8.0, 3.0, -4.0, 6.0, 13.0, 21.0]\n",
    "t_u = [35.7, 55.9, 58.2, 81.9, 56.3, 48.9, 33.9, 21.8, 48.4, 60.4, 68.4]\n",
    "\n",
    "t_c = torch.tensor(t_c)\n",
    "t_u = torch.tensor(t_u)\n",
    "\n",
    "plt.scatter(t_u.numpy(), t_c.numpy())\n",
    "plt.xlabel('measurement')\n",
    "plt.ylabel('Temperature (C)')\n",
    "plt.grid()\n",
    "plt.show()\n",
    "\n"
   ]
  },
  {
   "cell_type": "code",
   "execution_count": 34,
   "id": "51fba55e",
   "metadata": {},
   "outputs": [
    {
     "name": "stdout",
     "output_type": "stream",
     "text": [
      "torch.Size([2])\n"
     ]
    }
   ],
   "source": [
    "# -----------------------------\n",
    "# 1. Define model and loss\n",
    "# -----------------------------\n",
    "def model(t_u, w, b):\n",
    "    return w * t_u + b\n",
    "\n",
    "def loss_fn(t_p, t_c):\n",
    "    return ((t_p - t_c)**2).mean()   # MSE\n",
    "\n",
    "# -----------------------------\n",
    "# 2. Initialize params (with autograd)\n",
    "# -----------------------------\n",
    "params = torch.tensor([1.0, 0.0], requires_grad=True)  # [w, b]\n",
    "\n",
    "print(params.shape)"
   ]
  },
  {
   "cell_type": "code",
   "execution_count": 35,
   "id": "2721c3f1",
   "metadata": {},
   "outputs": [
    {
     "name": "stdout",
     "output_type": "stream",
     "text": [
      "tensor([35.7000, 55.9000, 58.2000, 81.9000, 56.3000, 48.9000, 33.9000, 21.8000,\n",
      "        48.4000, 60.4000, 68.4000])\n",
      "tensor([35.7000, 55.9000, 58.2000, 81.9000, 56.3000, 48.9000, 33.9000, 21.8000,\n",
      "        48.4000, 60.4000, 68.4000], grad_fn=<AddBackward0>)\n"
     ]
    }
   ],
   "source": [
    "print(t_u)\n",
    "# -----------------------------\n",
    "# 3. Forward pass\n",
    "# -----------------------------\n",
    "w, b = params\n",
    "t_p = model(t_u, w, b)         # predictions\n",
    "\n",
    "print(t_p)\n"
   ]
  },
  {
   "cell_type": "code",
   "execution_count": 36,
   "id": "ba07cc03",
   "metadata": {},
   "outputs": [
    {
     "name": "stdout",
     "output_type": "stream",
     "text": [
      "Loss before backward: 1763.884765625\n"
     ]
    }
   ],
   "source": [
    "# -----------------------------\n",
    "# 3. Forward pass\n",
    "# -----------------------------\n",
    "\n",
    "loss = loss_fn(t_p, t_c)       # scalar loss\n",
    "print(\"Loss before backward:\", float(loss))"
   ]
  },
  {
   "cell_type": "code",
   "execution_count": 37,
   "id": "53414d3e",
   "metadata": {},
   "outputs": [
    {
     "name": "stdout",
     "output_type": "stream",
     "text": [
      "Autograd gradients: tensor([4517.2969,   82.6000])\n"
     ]
    }
   ],
   "source": [
    "# -----------------------------\n",
    "# 4. Backward pass (autograd computes ∂loss/∂w and ∂loss/∂b)\n",
    "# -----------------------------\n",
    "loss.backward()\n",
    "print(\"Autograd gradients:\", params.grad)\n"
   ]
  },
  {
   "cell_type": "code",
   "execution_count": 46,
   "id": "bf5b5fa3",
   "metadata": {},
   "outputs": [
    {
     "data": {
      "text/plain": [
       "torch.Size([11])"
      ]
     },
     "execution_count": 46,
     "metadata": {},
     "output_type": "execute_result"
    }
   ],
   "source": [
    "t_p.size()"
   ]
  },
  {
   "cell_type": "code",
   "execution_count": 38,
   "id": "ae57ddcc",
   "metadata": {},
   "outputs": [
    {
     "name": "stdout",
     "output_type": "stream",
     "text": [
      "Manual gradients:    tensor([4517.2964,   82.6000])\n"
     ]
    }
   ],
   "source": [
    "\n",
    "# -----------------------------\n",
    "# 5. Manual gradients (to check)\n",
    "# -----------------------------\n",
    "# Derivative wrt t_p\n",
    "dloss_dtp = 2 * (t_p - t_c) / t_p.size(0)\n",
    "\n",
    "# Chain rule: dl/dw and dl/db\n",
    "dloss_dw = (dloss_dtp * t_u).sum()\n",
    "dloss_db = dloss_dtp.sum()\n",
    "\n",
    "print(\"Manual gradients:   \", torch.tensor([dloss_dw, dloss_db]))\n"
   ]
  }
 ],
 "metadata": {
  "kernelspec": {
   "display_name": "matrix",
   "language": "python",
   "name": "python3"
  },
  "language_info": {
   "codemirror_mode": {
    "name": "ipython",
    "version": 3
   },
   "file_extension": ".py",
   "mimetype": "text/x-python",
   "name": "python",
   "nbconvert_exporter": "python",
   "pygments_lexer": "ipython3",
   "version": "3.12.11"
  }
 },
 "nbformat": 4,
 "nbformat_minor": 5
}
