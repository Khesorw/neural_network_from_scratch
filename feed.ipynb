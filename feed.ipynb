{
 "cells": [
  {
   "cell_type": "code",
   "execution_count": null,
   "id": "839ec709",
   "metadata": {},
   "outputs": [
    {
     "name": "stdout",
     "output_type": "stream",
     "text": [
      "[[5.09331135e-01 7.19463991e-01 3.43589726e-01 5.90307373e-01\n",
      "  2.79740708e-01 1.40871221e-01 1.48711074e-01 7.21887263e-01\n",
      "  6.06594184e-01 8.84860625e-01]\n",
      " [1.29505322e-01 1.07598259e-01 9.72661550e-01 7.60682511e-01\n",
      "  1.07723511e-01 6.30193610e-01 3.98777635e-01 8.34087821e-01\n",
      "  4.64586578e-01 3.34676168e-01]\n",
      " [4.86033843e-01 6.06819196e-01 8.24174499e-02 5.55144764e-01\n",
      "  8.85309989e-01 3.27624082e-01 1.40634809e-01 9.19950552e-01\n",
      "  2.83815788e-01 4.60695116e-01]\n",
      " [1.38203019e-01 7.03668893e-01 2.02891170e-01 6.04367162e-01\n",
      "  3.88501340e-01 9.21671254e-01 7.90381578e-01 1.85950581e-01\n",
      "  3.03579712e-01 8.04640370e-01]\n",
      " [8.74357463e-01 5.70794345e-01 1.44234874e-01 1.05376188e-01\n",
      "  3.17403028e-02 7.36973123e-01 4.59043309e-01 6.50825675e-01\n",
      "  1.41065723e-01 1.82582001e-01]\n",
      " [8.20344457e-01 3.72470859e-02 4.80069156e-01 7.52074787e-01\n",
      "  5.46548710e-01 5.32760142e-01 9.10574844e-01 7.57914969e-01\n",
      "  5.68433057e-01 1.95820946e-01]\n",
      " [4.18571357e-01 6.55218279e-01 7.17621303e-01 3.14398310e-01\n",
      "  2.28795349e-01 6.09347177e-01 6.59189759e-01 3.86709670e-02\n",
      "  4.39279837e-02 7.40219503e-01]\n",
      " [4.70924776e-01 1.43610647e-01 9.44112160e-01 2.68498171e-01\n",
      "  2.03680267e-01 1.50640891e-01 5.14092530e-01 3.66163451e-01\n",
      "  4.02287071e-02 9.65275859e-01]\n",
      " [9.05203816e-01 4.54110032e-01 2.76027523e-02 7.00231551e-01\n",
      "  5.10804154e-01 9.16018112e-01 3.83164270e-01 4.95502218e-01\n",
      "  2.51958236e-01 4.52794228e-01]\n",
      " [3.44443492e-01 9.97822940e-01 1.92268285e-01 3.02310232e-01\n",
      "  2.45049828e-01 5.37750245e-01 7.29430087e-01 1.60335267e-01\n",
      "  4.60039392e-01 3.99011624e-01]\n",
      " [2.32722825e-01 2.28273896e-01 5.85335282e-01 5.64193964e-01\n",
      "  3.07686067e-03 5.06954547e-01 9.50647223e-01 4.11527385e-01\n",
      "  7.20763094e-01 6.36165062e-01]\n",
      " [6.74306318e-01 8.58222286e-01 3.89173766e-01 5.14563032e-01\n",
      "  7.34175299e-01 6.56996306e-01 6.49049639e-01 6.91729122e-01\n",
      "  1.50322654e-01 2.26401236e-02]\n",
      " [1.72426063e-01 3.83291367e-01 1.92087611e-02 3.95161220e-01\n",
      "  2.08623895e-04 4.13471268e-01 6.34516155e-01 2.04164104e-01\n",
      "  9.94881393e-01 1.95384208e-01]\n",
      " [2.25964426e-01 5.81749651e-01 7.09660678e-01 6.48063494e-01\n",
      "  7.68187815e-01 6.78412021e-01 2.40495368e-02 6.75514671e-01\n",
      "  5.60567231e-01 2.60913964e-01]\n",
      " [9.03646253e-01 8.07651651e-01 8.74030045e-01 5.23408183e-01\n",
      "  7.53802913e-01 2.38911247e-01 4.95533455e-01 6.66806431e-02\n",
      "  8.10769393e-01 8.27256342e-01]\n",
      " [5.00572637e-01 2.11712464e-01 5.53569008e-01 2.18051910e-01\n",
      "  1.58442855e-01 6.01141824e-01 1.69171226e-01 6.78850799e-01\n",
      "  4.66273599e-01 1.13543018e-01]]\n",
      "(16, 10)\n"
     ]
    },
    {
     "data": {
      "text/plain": [
       "0.4856378416856215"
      ]
     },
     "execution_count": 6,
     "metadata": {},
     "output_type": "execute_result"
    }
   ],
   "source": [
    "import numpy as np  \n",
    "\n",
    "check = np.random.rand(16,10)\n",
    "\n",
    "print(check)\n",
    "print(check.shape)\n",
    "\n"
   ]
  },
  {
   "cell_type": "code",
   "execution_count": 3,
   "id": "b25bbc8a",
   "metadata": {},
   "outputs": [
    {
     "name": "stdout",
     "output_type": "stream",
     "text": [
      "-0.10000000000000017\n"
     ]
    }
   ],
   "source": [
    "import numpy as np\n",
    "w = np.array([0.5,-0.4])\n",
    "x=np.array([2,3])\n",
    "\n",
    "z= x.dot(w) + 0.1\n",
    "print(z)"
   ]
  },
  {
   "cell_type": "code",
   "execution_count": 8,
   "id": "71aef90a",
   "metadata": {},
   "outputs": [
    {
     "name": "stdout",
     "output_type": "stream",
     "text": [
      "[[0. 0. 0. 0. 0. 0. 0. 0. 0. 0.]]\n"
     ]
    }
   ],
   "source": [
    "print(np.zeros((1,10)))"
   ]
  },
  {
   "cell_type": "code",
   "execution_count": 9,
   "id": "ee3e608c",
   "metadata": {},
   "outputs": [],
   "source": [
    "class SimNN:\n",
    "    def __init__(self,input,hidden,output,bias,lr=0.001):\n",
    "        self.layer = np.random.rand(input,hidden)\n",
    "        self.bias = np.zeros((1,hidden))\n",
    "        self.learning_rate = lr \n",
    "    \n",
    "\n",
    "    def relu(slef,x):\n",
    "        return max(0,x)\n",
    "    \n",
    "    def softmax(self,x):\n",
    "        pass\n",
    "    \n",
    "\n",
    "        "
   ]
  },
  {
   "cell_type": "code",
   "execution_count": 4,
   "id": "25f4c50c",
   "metadata": {},
   "outputs": [],
   "source": [
    "import numpy as np\n",
    "\n",
    "# --- Hyperparameters ---\n",
    "lr = 0.1     # learning rate\n",
    "n, m = 2, 3  # input dim=2, hidden dim=3\n",
    "epochs = 10\n",
    "\n",
    "# --- Data ---\n",
    "X = np.array([[2.0, 3.0]])  # input shape (1, n)\n",
    "y = np.array([[1.0]])       # target shape (1, 1)\n",
    "\n",
    "# --- Initialize weights ---\n",
    "np.random.seed(42)\n",
    "W1 = np.random.randn(n, m) * 0.01   # (2,3)\n",
    "b1 = np.zeros((1, m))               # (1,3)\n",
    "W2 = np.random.randn(m, 1) * 0.01   # (3,1)\n",
    "b2 = np.zeros((1, 1))               # (1,1)\n",
    "\n",
    "# --- Activation ---\n",
    "def relu(z):\n",
    "    return np.maximum(0, z)\n",
    "\n",
    "def relu_deriv(z):\n",
    "    return (z > 0).astype(float)\n",
    "\n",
    "# --- Training loop ---\n",
    "# for epoch in range(epochs):\n",
    "#     # Forward pass\n",
    "#     z1 = X @ W1 + b1     # (1, m)\n",
    "#     h = relu(z1)         # (1, m)\n",
    "#     y_hat = h @ W2 + b2  # (1, 1)\n",
    "#     loss = 0.5 * np.square(y_hat - y)\n",
    "\n",
    "#     # Backprop\n",
    "#     dL_dyhat = y_hat - y                    # (1,1)\n",
    "#     dW2 = h.T @ dL_dyhat                    # (m,1)\n",
    "#     db2 = dL_dyhat                          # (1,1)\n",
    "\n",
    "#     dh = dL_dyhat @ W2.T                    # (1,m)\n",
    "#     dz1 = dh * relu_deriv(z1)               # (1,m)\n",
    "#     dW1 = X.T @ dz1                         # (n,m)\n",
    "#     db1 = dz1                               # (1,m)\n",
    "\n",
    "#     # Update params\n",
    "#     W2 -= lr * dW2\n",
    "#     b2 -= lr * db2\n",
    "#     W1 -= lr * dW1\n",
    "#     b1 -= lr * db1\n",
    "\n",
    "#     print(f\"Epoch {epoch+1}, Loss: {loss.item():.4f}, Prediction: {y_hat.item():.4f}\")\n"
   ]
  },
  {
   "cell_type": "code",
   "execution_count": null,
   "id": "ecbacade",
   "metadata": {},
   "outputs": [
    {
     "name": "stdout",
     "output_type": "stream",
     "text": [
      "[[2. 3.]] [[1.]]\n",
      "[[ 0.00496714 -0.00138264  0.00647689]\n",
      " [ 0.0152303  -0.00234153 -0.00234137]]\n"
     ]
    }
   ],
   "source": [
    "import numpy as np  \n",
    "# --- Initialize weights ---\n",
    "\n",
    "n,m = 2,3\n",
    "np.random.seed(42)\n",
    "W1 = np.random.randn(n, m) * 0.01   # (2,3)\n",
    "b1 = np.zeros((1, m))               # (1,3)\n",
    "W2 = np.random.randn(m, 1) * 0.01   # (3,1)\n",
    "b2 = np.zeros((1, 1))  \n",
    "\n",
    "X = np.array([[2.0, 3.0]])  # input shape (1, n)\n",
    "y = np.array([[1.0,0]])       # target shape (1, 1)\n",
    "\n",
    "print(X,y)\n",
    "\n",
    "print(W1)"
   ]
  },
  {
   "cell_type": "code",
   "execution_count": 126,
   "id": "b3e4a9c5",
   "metadata": {},
   "outputs": [
    {
     "name": "stdout",
     "output_type": "stream",
     "text": [
      "[[ 7  4  8  5]\n",
      " [ 7 10  3  7]\n",
      " [ 8  5  4  8]]\n",
      "[22 19 15 20]\n",
      "[24 27 25]\n"
     ]
    }
   ],
   "source": [
    "np.random.seed(42)\n",
    "f = np.random.randint(1,11,size=(3,4))\n",
    "print(f)\n",
    "print(np.sum(f,axis=0))\n",
    "print(np.sum(f,axis=1))"
   ]
  },
  {
   "cell_type": "code",
   "execution_count": null,
   "id": "abece88c",
   "metadata": {},
   "outputs": [],
   "source": [
    "class SimpleNN:\n",
    "    def __init__(self, input_dim, num_neurons):\n",
    "        # Smaller initialization (scaled by 0.1)\n",
    "        self.w1 = np.random.randn(input_dim, num_neurons) * 0.1\n",
    "        self.b1 = np.zeros((1, num_neurons))\n",
    "        self.w2 = np.random.randn(num_neurons, 1) * 0.1\n",
    "        self.b2 = np.zeros((1, 1))\n",
    "        self.Loss = []\n",
    "\n",
    "    def Relu(self, x):\n",
    "\n",
    "\n",
    "        return np.maximum(0, x)\n",
    "\n",
    "    def relu_def(self, x):\n",
    "        return (x > 0).astype(float)\n",
    "    \n",
    "\n",
    "    def Tanh(self, x):\n",
    "        return np.tanh(x)\n",
    "\n",
    "    def tanh_def(self, x):\n",
    "        return 1 - np.tanh(x)**2\n",
    "\n",
    "\n",
    "    def error(self, actual, esti):\n",
    "        return 0.5 * (actual - esti) ** 2\n",
    "\n",
    "    def forward(self, x):\n",
    "        self.input = x\n",
    "        self.z1 = self.input.dot(self.w1) + self.b1\n",
    "        self.h1 = self.Relu(self.z1)\n",
    "        self.y_hat = self.h1.dot(self.w2) + self.b2\n",
    "        return self.y_hat\n",
    "\n",
    "    def backprop(self, target, lr=1e-4):  # smaller learning rate\n",
    "        loss_val = np.mean(self.error(target, self.y_hat))\n",
    "        self.Loss.append(loss_val)\n",
    "\n",
    "        # Output layer\n",
    "        dl_dyhat = (self.y_hat - target)                    # (batch,1)\n",
    "        dl_dv = self.h1.T.dot(dl_dyhat) / len(target)       # normalize by batch\n",
    "        dl_dc = np.sum(dl_dyhat, axis=0, keepdims=True) / len(target)\n",
    "\n",
    "        # Hidden layer\n",
    "        delta1 = dl_dyhat.dot(self.w2.T) * self.relu_def(self.z1)\n",
    "        dl_dw1 = self.input.T.dot(delta1) / len(target)\n",
    "        dl_db1 = np.sum(delta1, axis=0, keepdims=True) / len(target)\n",
    "\n",
    "        # Update weights\n",
    "        self.w2 -= lr * dl_dv\n",
    "        self.b2 -= lr * dl_dc\n",
    "        self.w1 -= lr * dl_dw1\n",
    "        self.b1 -= lr * dl_db1\n"
   ]
  },
  {
   "cell_type": "code",
   "execution_count": 300,
   "id": "e8035085",
   "metadata": {},
   "outputs": [],
   "source": [
    "import numpy as np\n",
    "\n",
    "class SimpleNN:\n",
    "    def __init__(self,input_dim,num_neurons,lr=1e-3):\n",
    "       \n",
    "        # self.w1 = np.random.randn(input_dim,num_neurons)  * lr\n",
    "        self.b1 = np.random.rand(1,num_neurons) \n",
    "        # self.w2 = np.random.randn(num_neurons,1) * lr\n",
    "        self.w1 = np.random.randn(input_dim,num_neurons) * np.sqrt(2./input_dim)\n",
    "        self.w2 = np.random.randn(num_neurons,1) * np.sqrt(2./num_neurons)\n",
    "        self.b2 = np.random.rand(1,1)\n",
    "        self.lr = lr\n",
    "        self.Loss = []\n",
    "\n",
    "        \n",
    "    \n",
    "    def Relu(self,x):\n",
    "        return np.maximum(0,x)\n",
    "    \n",
    "    def relu_def(self,x):\n",
    "         return (x > 0).astype(float)\n",
    "    \n",
    "    def error(self,actual,esti):\n",
    "        return 0.5 * (actual-esti)**2\n",
    "    \n",
    "\n",
    "    def Tanh(self,x):\n",
    "        return np.tanh(x)\n",
    "    \n",
    "    def tanh_def(self,x):\n",
    "        return 1 - np.tanh(x)**2\n",
    "\n",
    "\n",
    "\n",
    "    def backprop(self,target):\n",
    "        loss = np.mean(self.error(target,self.y_hat))\n",
    "        self.Loss.append(loss)\n",
    "        dl_dy = self.y_hat - target\n",
    "        dl_dv = self.h1.T.dot(dl_dy)\n",
    "        dl_dc = np.sum(dl_dy,axis=0,keepdims=True) #(1,num neurons)\n",
    "\n",
    "        #hidden layer\n",
    "        delta1 = dl_dy.dot(self.w2.T) * self.tanh_def(self.z1)\n",
    "        dl_w1 = self.input.T.dot(delta1)\n",
    "        dl_db1 = np.sum(delta1,axis=0,keepdims=True)\n",
    "\n",
    "\n",
    "        #updating weights\n",
    "        self.w2 -= self.lr * dl_dv\n",
    "        self.b2 -= self.lr * dl_dc\n",
    "\n",
    "        self.w1 -= self.lr * dl_w1\n",
    "        self.b1 -= self.lr * dl_db1\n",
    "\n",
    "\n",
    "\n",
    "                     \n",
    "    def forward(self,X):\n",
    "        self.input = X\n",
    "        self.z1 = self.input.dot(self.w1) + self.b1 \n",
    "        # print(self.z1.shape)      \n",
    "        self.h1 = self.Tanh(self.z1)                          \n",
    "        self.y_hat = self.h1.dot(self.w2) + self.b2\n",
    "        return self.y_hat\n",
    "\n",
    "\n",
    "            \n",
    "        \n",
    "\n",
    "\n",
    "\n",
    "\n",
    "    "
   ]
  },
  {
   "cell_type": "code",
   "execution_count": null,
   "id": "92d29e07",
   "metadata": {},
   "outputs": [],
   "source": [
    "import numpy as np\n",
    "\n",
    "class SimpleNN:\n",
    "    def __init__(self, input_dim, num_neurons, lr=1e-3,activation='tanh'):\n",
    "        # Xavier initialization for tanh\n",
    "        self.activation = activation\n",
    "        if activation == 'tanh':\n",
    "            self.w1 = np.random.randn(input_dim, num_neurons) * np.sqrt(1./input_dim)\n",
    "            self.w2 = np.random.randn(num_neurons, 1) * np.sqrt(1./num_neurons)\n",
    "        elif activation == 'relu':\n",
    "            # self.w1 = np.random.randn(input_dim, num_neurons) * np.sqrt(2./input_dim)\n",
    "            # self.w2 = np.random.randn(num_neurons, 1) * np.sqrt(2./num_neurons)\n",
    "            self.w1 = np.random.randn(input_dim, num_neurons) * np.sqrt(2./input_dim)\n",
    "            self.w2 = np.random.randn(num_neurons, 1) * np.sqrt(2./num_neurons)\n",
    "\n",
    "            \n",
    "\n",
    "            \n",
    "        self.b1 = np.zeros((1, num_neurons))\n",
    "        self.b2 = np.zeros((1, 1))\n",
    "\n",
    "        self.lr = lr\n",
    "        self.Loss = []\n",
    "\n",
    "    # ---- Activation ----\n",
    "    def Tanh(self, x):\n",
    "        return np.tanh(x)\n",
    "\n",
    "    def tanh_grad(self, h):\n",
    "        return 1 - h**2   # derivative w.r.t tanh output\n",
    "    \n",
    "    def Relu(self,x):\n",
    "        return np.maximum(0,x)\n",
    "    \n",
    "    def relu_def(self,x):\n",
    "         return (x > 0).astype(float)\n",
    "\n",
    "    # ---- Loss ----\n",
    "    def error(self, actual, esti):\n",
    "        return 0.5 * (actual - esti) ** 2\n",
    "\n",
    "    # ---- Forward ----\n",
    "    # def forward(self, X):\n",
    "    #     self.input = X\n",
    "    #     self.z1 = self.input.dot(self.w1) + self.b1   # (batch, num_neurons)\n",
    "    #     self.h1 = self.Relu(self.z1)                  # (batch, num_neurons)\n",
    "    #     self.y_hat = self.h1.dot(self.w2) + self.b2   # (batch, 1)\n",
    "    #     return self.y_hat\n",
    "\n",
    "        # ---- Forward ----\n",
    "    def forward(self, X):\n",
    "        self.input = X\n",
    "        self.z1 = self.input.dot(self.w1) + self.b1   # (batch, num_neurons)\n",
    "\n",
    "        if self.activation == 'tanh':\n",
    "            self.h1 = self.Tanh(self.z1)\n",
    "        else:  # relu\n",
    "            self.h1 = self.Relu(self.z1)\n",
    "\n",
    "        self.y_hat = self.h1.dot(self.w2) + self.b2   # (batch, 1)\n",
    "        return self.y_hat\n",
    "\n",
    "\n",
    "    # # ---- Backprop ----\n",
    "    # def backprop(self, target):\n",
    "    #     # Compute loss\n",
    "    #     loss = np.mean(self.error(target, self.y_hat))\n",
    "    #     self.Loss.append(loss)\n",
    "\n",
    "    #     # Output layer\n",
    "    #     # dl_dy = self.y_hat - target                    # (batch,1)\n",
    "    #     dl_dy = (self.y_hat - target) / target.shape[0]   \n",
    "\n",
    "    #     dl_dv = self.h1.T.dot(dl_dy)                   # (num_neurons,1)\n",
    "    #     dl_dc = np.sum(dl_dy, axis=0, keepdims=True)   # (1,1)\n",
    "\n",
    "    #     # Hidden layer\n",
    "    #     # delta1 = dl_dy.dot(self.w2.T) * self.relu_def(self.h1)  # (batch,num_neurons)\n",
    "    #     delta1 = dl_dy.dot(self.w2.T) * self.relu_def(self.z1)\n",
    "\n",
    "    #     dl_w1 = self.input.T.dot(delta1)                        # (input_dim,num_neurons)\n",
    "    #     dl_db1 = np.sum(delta1, axis=0, keepdims=True)          # (1,num_neurons)\n",
    "\n",
    "    #     # Update weights\n",
    "    #     self.w2 -= self.lr * dl_dv\n",
    "    #     self.b2 -= self.lr * dl_dc\n",
    "    #     self.w1 -= self.lr * dl_w1\n",
    "    #     self.b1 -= self.lr * dl_db1\n",
    "\n",
    "\n",
    "\n",
    "    def backprop(self, target, lr=1e-3, clip_norm=1.0):\n",
    "        m = target.shape[0]\n",
    "        loss_val = np.mean(0.5 * (target - self.y_hat)**2)\n",
    "        self.Loss.append(loss_val)\n",
    "\n",
    "        # output layer\n",
    "        dl_dy = (self.y_hat - target) / m        # (batch,1) normalized by batch\n",
    "        dW2 = self.h1.T.dot(dl_dy)               # (num_neurons,1)\n",
    "        db2 = np.sum(dl_dy, axis=0, keepdims=True)  # (1,1)\n",
    "\n",
    "        # hidden layer\n",
    "        dh = dl_dy.dot(self.w2.T)                # (batch, num_neurons)\n",
    "        if self.activation == 'tanh':\n",
    "            dz1 = dh * self.tanh_grad(self.z1)\n",
    "        else:\n",
    "            dz1 = dh * self.relu_grad(self.z1)\n",
    "\n",
    "        dW1 = self.input.T.dot(dz1)              # (input_dim, num_neurons)\n",
    "        db1 = np.sum(dz1, axis=0, keepdims=True) # (1, num_neurons)\n",
    "\n",
    "        # gradient clipping (per-matrix)\n",
    "        def clip(g):\n",
    "            norm = np.linalg.norm(g)\n",
    "            if norm > clip_norm:\n",
    "                return g * (clip_norm / (norm + 1e-12))\n",
    "            return g\n",
    "\n",
    "        dW2 = clip(dW2); dW1 = clip(dW1)\n",
    "        db2 = clip(db2); db1 = clip(db1)\n",
    "\n",
    "        # update\n",
    "        self.w2 -= lr * dW2\n",
    "        self.b2 -= lr * db2\n",
    "        self.w1 -= lr * dW1\n",
    "        self.b1 -= lr * db1\n",
    "\n",
    "\n"
   ]
  },
  {
   "cell_type": "code",
   "execution_count": 10,
   "id": "92eaed6f",
   "metadata": {},
   "outputs": [
    {
     "name": "stdout",
     "output_type": "stream",
     "text": [
      "Epoch 0, Loss = 0.404069\n",
      "Epoch 500, Loss = 0.251200\n",
      "Epoch 1000, Loss = 0.182254\n",
      "Epoch 1500, Loss = 0.149296\n",
      "Epoch 2000, Loss = 0.132603\n",
      "Epoch 2500, Loss = 0.123602\n",
      "Epoch 3000, Loss = 0.118354\n",
      "Epoch 3500, Loss = 0.114956\n",
      "Epoch 4000, Loss = 0.112462\n",
      "Epoch 4500, Loss = 0.110406\n"
     ]
    },
    {
     "data": {
      "image/png": "[encoded data removed]",
      "text/plain": [
       "<Figure size 800x600 with 1 Axes>"
      ]
     },
     "metadata": {},
     "output_type": "display_data"
    }
   ],
   "source": [
    "import numpy as np\n",
    "import matplotlib.pyplot as plt\n",
    "\n",
    "\n",
    "# # Data\n",
    "# X = np.linspace(-4, 4, 100).reshape(-1, 1)\n",
    "# Y = (X**2) / 16.0   # normalized targets in [0,1]\n",
    "\n",
    "# # Model\n",
    "# nn = SimpleNN(input_dim=1, num_neurons=100, lr=1e-3, activation='tanh')\n",
    "X = np.linspace(-4, 4, 500).reshape(-1,1)\n",
    "Y = X ** 2  /8\n",
    "\n",
    "\n",
    "# normalize X (important)\n",
    "X_mean, X_std = X.mean(axis=0), X.std(axis=0) + 1e-12\n",
    "Xn = (X - X_mean) / X_std\n",
    "nn = SimpleNN(input_dim=1, num_neurons=100, lr=1e-3, activation='tanh')\n",
    "\n",
    "# Training\n",
    "epochs = 5000\n",
    "for epoch in range(epochs):\n",
    "    y_pred = nn.forward(X)\n",
    "    nn.backprop(Y)\n",
    "\n",
    "    if epoch % 500 == 0:\n",
    "        print(f\"Epoch {epoch}, Loss = {nn.Loss[-1]:.6f}\")\n",
    "\n",
    "# Plot\n",
    "plt.figure(figsize=(8,6))\n",
    "plt.plot(X, Y, label=\"True $y=x^2$\", color=\"blue\")\n",
    "plt.plot(X, nn.forward(X), label=\"NN Prediction\", color=\"red\", linestyle=\"--\")\n",
    "plt.legend()\n",
    "plt.title(\"Approximating $y=x^2$ with SimpleNN\")\n",
    "plt.xlabel(\"x\")\n",
    "plt.ylabel(\"y (normalized)\")\n",
    "plt.grid(True)\n",
    "plt.show()\n"
   ]
  },
  {
   "cell_type": "code",
   "execution_count": null,
   "id": "1a9fd0ea",
   "metadata": {},
   "outputs": [
    {
     "name": "stdout",
     "output_type": "stream",
     "text": [
      "0 loss 30.019508845440033\n",
      "400 loss 0.283455717730228\n",
      "800 loss 0.13478507656128316\n",
      "1200 loss 0.078003531134403\n",
      "1600 loss 0.04497697229115283\n",
      "2000 loss 0.026184412263340583\n",
      "2400 loss 0.011949866814575338\n",
      "2800 loss 0.01207211609598595\n",
      "3200 loss 0.009558975077437096\n",
      "3600 loss 0.0058054834648144475\n"
     ]
    },
    {
     "data": {
      "image/png": "[encoded data removed]",
      "text/plain": [
       "<Figure size 800x600 with 1 Axes>"
      ]
     },
     "metadata": {},
     "output_type": "display_data"
    }
   ],
   "source": [
    "import numpy as np\n",
    "import matplotlib.pyplot as plt\n",
    "\n",
    "class SimpleNN:\n",
    "    def __init__(self, input_dim, num_neurons, activation='tanh'):\n",
    "        self.activation = activation\n",
    "        fan_in, fan_out = input_dim, num_neurons\n",
    "        # Xavier init (good for tanh); for ReLU use He: * np.sqrt(2/fan_in)\n",
    "        std1 = np.sqrt(2.0 / (fan_in + fan_out))\n",
    "        self.w1 = np.random.randn(fan_in, fan_out) * std1\n",
    "        self.b1 = np.zeros((1, fan_out))\n",
    "        std2 = np.sqrt(2.0 / (fan_out + 1))\n",
    "        self.w2 = np.random.randn(fan_out, 1) * std2\n",
    "        self.b2 = np.zeros((1, 1))\n",
    "        self.Loss = []\n",
    "\n",
    "    def forward(self, x):\n",
    "        self.input = x                       # (batch, input_dim)\n",
    "        self.z1 = x.dot(self.w1) + self.b1   # (batch, num_neurons)\n",
    "        if self.activation == 'tanh':\n",
    "            self.h1 = np.tanh(self.z1)\n",
    "        else:\n",
    "            self.h1 = np.maximum(0, self.z1)\n",
    "        self.y_hat = self.h1.dot(self.w2) + self.b2   # (batch,1)\n",
    "        return self.y_hat\n",
    "\n",
    "    def relu_grad(self, z): return (z > 0).astype(float)\n",
    "    def tanh_grad(self, z): return 1.0 - np.tanh(z)**2\n",
    "\n",
    "        # # ---- Backprop ----\n",
    "    # def backprop(self, target):\n",
    "    #     # Compute loss\n",
    "    #     loss = np.mean(0.5 * (target - self.y_hat)**2)\n",
    "    #     self.Loss.append(loss)\n",
    "\n",
    "    #     # Output layer\n",
    "    #   m = trahet.shape[0]\n",
    "    #     # dl_dy = self.y_hat - target / m                   # (batch,1)\n",
    "    #     dl_dy = (self.y_hat - target) / target.shape[0]\n",
    "\n",
    "    #     dl_dv = self.h1.T.dot(dl_dy)                   # (num_neurons,1)\n",
    "    #     dl_dc = np.sum(dl_dy, axis=0, keepdims=True)   # (1,1)\n",
    "\n",
    "    #     # Hidden layer\n",
    "    #     # delta1 = dl_dy.dot(self.w2.T) * self.relu_def(self.h1)  # (batch,num_neurons)\n",
    "    #     delta1 = dl_dy.dot(self.w2.T) * self.relu_def(self.z1)\n",
    "\n",
    "    #     dl_w1 = self.input.T.dot(delta1)                        # (input_dim,num_neurons)\n",
    "    #     dl_db1 = np.sum(delta1, axis=0, keepdims=True)          # (1,num_neurons)\n",
    "\n",
    "    #     # Update weights\n",
    "    #     self.w2 -= self.lr * dl_dv\n",
    "    #     self.b2 -= self.lr * dl_dc\n",
    "    #     self.w1 -= self.lr * dl_w1\n",
    "    #     self.b1 -= self.lr * dl_db1\n",
    "\n",
    "    def backprop(self, target, lr=1e-3, clip_norm=1.0):\n",
    "        m = target.shape[0]\n",
    "        loss_val = np.mean(0.5 * (target - self.y_hat)**2)\n",
    "        self.Loss.append(loss_val)\n",
    "\n",
    "        # output layer\n",
    "        dL_dy = (self.y_hat - target) / m        # (batch,1) normalized by batch\n",
    "        dW2 = self.h1.T.dot(dL_dy)               # (num_neurons,1)\n",
    "        db2 = np.sum(dL_dy, axis=0, keepdims=True)  # (1,1)\n",
    "\n",
    "        # hidden layer\n",
    "        dh = dL_dy.dot(self.w2.T)                # (batch, num_neurons)\n",
    "        if self.activation == 'tanh':\n",
    "            dz1 = dh * self.tanh_grad(self.z1)\n",
    "        else:\n",
    "            dz1 = dh * self.relu_grad(self.z1)\n",
    "\n",
    "        dW1 = self.input.T.dot(dz1)              # (input_dim, num_neurons)\n",
    "        db1 = np.sum(dz1, axis=0, keepdims=True) # (1, num_neurons)\n",
    "\n",
    "        # gradient clipping (per-matrix)\n",
    "        def clip(g):\n",
    "            norm = np.linalg.norm(g)\n",
    "            if norm > clip_norm:\n",
    "                return g * (clip_norm / (norm + 1e-12))\n",
    "            return g\n",
    "\n",
    "        dW2 = clip(dW2); dW1 = clip(dW1)\n",
    "        db2 = clip(db2); db1 = clip(db1)\n",
    "\n",
    "        # update\n",
    "        self.w2 -= lr * dW2\n",
    "        self.b2 -= lr * db2\n",
    "        self.w1 -= lr * dW1\n",
    "        self.b1 -= lr * db1\n",
    "\n",
    "# ---- data prep ----\n",
    "X = np.linspace(-4, 4, 500).reshape(-1,1)\n",
    "Y = X ** 2 \n",
    "\n",
    "\n",
    "# normalize X (important)\n",
    "X_mean, X_std = X.mean(axis=0), X.std(axis=0) + 1e-12\n",
    "Xn = (X - X_mean) / X_std\n",
    "\n",
    "# model & train\n",
    "nn = SimpleNN(input_dim=1, num_neurons=50, activation='ReLu')\n",
    "epochs = 4000\n",
    "batch_size = 32\n",
    "lr = 1e-3\n",
    "\n",
    "for epoch in range(epochs):\n",
    "    # mini-batch SGD\n",
    "    perm = np.random.permutation(len(Xn))\n",
    "    for i in range(0, len(Xn), batch_size):\n",
    "        idx = perm[i:i+batch_size]\n",
    "        xb, yb = Xn[idx], Y[idx]\n",
    "        nn.forward(xb)\n",
    "        nn.backprop(yb, lr=lr, clip_norm=1.0)\n",
    "\n",
    "    if epoch % 400 == 0:\n",
    "        print(epoch, \"loss\", nn.Loss[-1])\n",
    "\n",
    "# final predictions (remember to feed normalized X)\n",
    "Y_pred = nn.forward(Xn)\n",
    "\n",
    "# plot\n",
    "plt.figure(figsize=(8,6))\n",
    "plt.plot(X, Y, label='True y=x^2')\n",
    "plt.plot(X, Y_pred, '--', label='NN prediction')\n",
    "plt.legend()\n",
    "plt.show()\n"
   ]
  },
  {
   "cell_type": "code",
   "execution_count": null,
   "id": "a153d1e7",
   "metadata": {},
   "outputs": [
    {
     "data": {
      "text/plain": [
       "array([[0.75400846]])"
      ]
     },
     "execution_count": 10,
     "metadata": {},
     "output_type": "execute_result"
    }
   ],
   "source": [
    "np.random.randn(1,10)\n",
    "np.random.rand(1,1)"
   ]
  },
  {
   "cell_type": "code",
   "execution_count": null,
   "id": "09deb331",
   "metadata": {},
   "outputs": [
    {
     "name": "stdout",
     "output_type": "stream",
     "text": [
      "Hasib   khesrow   Yosufi\n",
      "12\n"
     ]
    }
   ],
   "source": [
    "class john:\n",
    "    def __init__(self,n,l):\n",
    "        self.n = n\n",
    "        self.l = l\n",
    "\n",
    "    def pri(self,v):\n",
    "        print(self.n ,' ',v,' ',self.l)\n",
    "        self.z1 = self.n + ' ' +self.l\n",
    "\n",
    "    \n",
    "    def leg(self):\n",
    "        print(len(self.z1))\n",
    "\n",
    "\n",
    "p = john('Hasib','Yosufi')\n",
    "\n",
    "p.pri('khesrow')\n",
    "\n",
    "p.leg()\n",
    "    "
   ]
  },
  {
   "cell_type": "code",
   "execution_count": null,
   "id": "e93ab708",
   "metadata": {},
   "outputs": [
    {
     "name": "stdout",
     "output_type": "stream",
     "text": [
      "[[0.82561287 0.21377282 0.83530781 0.55611731 0.76572135 0.84880302\n",
      "  0.46880912 0.72987513 0.90212393 0.19408126 0.24211953 0.18089398\n",
      "  0.63054466 0.27020122 0.8479145  0.41630082]]\n",
      "(1, 16)\n"
     ]
    },
    {
     "data": {
      "text/plain": [
       "16"
      ]
     },
     "execution_count": 39,
     "metadata": {},
     "output_type": "execute_result"
    }
   ],
   "source": [
    "sj = np.random.rand(1,16)\n",
    "sj.flatten()\n",
    "print(sj)\n",
    "print(sj.shape)\n",
    "len(sj[0])\n"
   ]
  },
  {
   "cell_type": "code",
   "execution_count": null,
   "id": "f4fbb747",
   "metadata": {},
   "outputs": [
    {
     "name": "stdout",
     "output_type": "stream",
     "text": [
      "[[-0.19676056  0.16468745 -0.5607339   1.12176614 -1.08756729 -0.47916055\n",
      "   1.12187741  1.03929713  1.10467392 -0.04857982]\n",
      " [-0.91589105  0.52584003 -0.27435371 -0.62021767 -1.77368273  0.34618928\n",
      "  -0.35598258  0.62848684 -0.1310904  -0.33056148]\n",
      " [ 0.6478108   0.48655214 -0.99692909 -1.12759586 -0.87386035  0.78793997\n",
      "   0.69937008  0.30095813 -0.3899366  -0.5683449 ]\n",
      " [ 0.02661809 -3.22721494  1.35157811 -0.10780114 -0.3747107  -0.30480217\n",
      "  -0.91097819 -0.77647777  0.50947325  0.63668326]\n",
      " [ 1.54130342  1.02681295 -0.42085492  0.2597463  -0.48352946 -0.26434552\n",
      "   0.10216859  2.52103253  0.91765373  0.91292789]\n",
      " [-2.45682623 -0.08398991  0.24269358  2.01534651 -0.39756909 -0.55528544\n",
      "   0.60069982 -0.45067194  0.36016177 -0.78679208]\n",
      " [ 0.35582381  0.12658794 -1.33221451  0.48256411  0.23349966  0.0325343\n",
      "   0.49009408  1.0861085   0.58931538  0.07699001]\n",
      " [-0.44469301 -1.52464543 -0.82662016  0.2868618  -1.77664394  1.94319569\n",
      "  -1.08319859 -0.38526992  0.67461749  2.62153648]\n",
      " [ 0.24733023  0.20684962 -0.80877475  0.7675069  -0.84636304  0.35211901\n",
      "  -0.30899437 -0.03996772  0.73270953 -0.57956583]\n",
      " [ 0.36826441 -0.49746838  1.10947662  1.40995518  1.10094288 -0.31278861\n",
      "  -0.15730203 -0.13692563  0.86641983  3.15413918]\n",
      " [-0.50785233  1.27477806 -0.72490284  0.78334223 -0.21403048 -0.22603186\n",
      "   1.21895549  1.61378294  0.2743944  -0.97966922]\n",
      " [ 0.99669201  0.04914131  0.15212877 -0.71134195  0.65334633 -0.54562006\n",
      "   0.62878267 -0.06439976  0.06731084 -0.60774352]\n",
      " [-0.90181596  2.93733969  0.61755708  0.32076753 -1.34502094 -2.15705753\n",
      "   0.58457253 -1.00090925  0.3890126  -0.08224423]\n",
      " [ 0.57345802 -0.09567253 -0.48687129  1.02004206 -0.24475934 -0.19184685\n",
      "  -0.33303823 -0.72710541  1.36083926 -0.09526421]\n",
      " [ 1.50602077  1.13438062 -2.21403418  0.57040224 -1.32930006 -1.20475024\n",
      "  -0.47633541  0.08658769 -1.6830334   0.71571781]\n",
      " [ 0.06788126 -0.67688343 -1.38578199 -0.77399669  2.4385284  -0.67764267\n",
      "   0.99786063  2.1185049   1.96183284  0.47907687]]\n"
     ]
    }
   ],
   "source": [
    "w1 = np.random.randn(len(sj[0]),10)\n",
    "print(w1)"
   ]
  },
  {
   "cell_type": "code",
   "execution_count": null,
   "id": "5ef766e4",
   "metadata": {},
   "outputs": [
    {
     "name": "stdout",
     "output_type": "stream",
     "text": [
      "[[0.37136015 0.47849998 0.69728426 0.35779245 0.62526807 0.67768446\n",
      "  0.12358334 0.80189743 0.94539182 0.89520929]]\n"
     ]
    }
   ],
   "source": [
    "b1 = np.random.rand(1,10)\n",
    "print(b1)"
   ]
  },
  {
   "cell_type": "code",
   "execution_count": null,
   "id": "52bdc091",
   "metadata": {},
   "outputs": [],
   "source": [
    "z = sj.dot(w1) + b1"
   ]
  },
  {
   "cell_type": "code",
   "execution_count": null,
   "id": "140c1ea0",
   "metadata": {},
   "outputs": [
    {
     "name": "stdout",
     "output_type": "stream",
     "text": [
      "[[ 0.74961423  1.91403196 -4.10821341  4.16096978 -4.9947882  -1.00750881\n",
      "   1.46829384  3.83396308  4.47444493  3.1153619 ]]\n"
     ]
    }
   ],
   "source": [
    "print(z)\n"
   ]
  },
  {
   "cell_type": "code",
   "execution_count": null,
   "id": "ee1cab1e",
   "metadata": {},
   "outputs": [
    {
     "name": "stdout",
     "output_type": "stream",
     "text": [
      "[2 3 4]\n",
      "3.0 \n",
      " [0.1 0.2 0.3]\n",
      "[  3.  22. -17.]\n"
     ]
    }
   ],
   "source": [
    "x = np.array([2,3,4])\n",
    "wt = np.array([[0.1,0.2,0.3],[1,2,3],[-1,-2,-3]])\n",
    "bs = np.array([1,2,3])\n",
    "print(x)\n",
    "print(x.dot(wt[0])+1,'\\n',wt[0])\n",
    "\n",
    "zj = x.dot(wt.T) + bs\n",
    "print(zj)"
   ]
  },
  {
   "cell_type": "code",
   "execution_count": 4,
   "id": "1d1571e2",
   "metadata": {},
   "outputs": [
    {
     "name": "stdout",
     "output_type": "stream",
     "text": [
      "predeicted is 7.0 actual is 4, and loss is 4.5\n"
     ]
    }
   ],
   "source": [
    "import torch\n",
    "\n",
    "x = torch.tensor(2)\n",
    "t = torch.tensor(4)\n",
    "\n",
    "\n",
    "m = torch.tensor(3.0,requires_grad=True)\n",
    "b = torch.tensor(1.0,requires_grad=True)\n",
    "\n",
    "\n",
    "y = m * x + b\n",
    "\n",
    "Loss = 0.5 * (y-t)**2\n",
    "\n",
    "print(f'predeicted is {y} actual is {t}, and loss is {Loss}')\n",
    "\n"
   ]
  },
  {
   "cell_type": "code",
   "execution_count": 5,
   "id": "75e3dc2d",
   "metadata": {},
   "outputs": [
    {
     "name": "stdout",
     "output_type": "stream",
     "text": [
      "Loss :  4.5\n",
      "dl_dw is 6.0\n",
      "dl_dw is 3.0\n"
     ]
    }
   ],
   "source": [
    "Loss.backward()\n",
    "\n",
    "print('Loss : ',Loss.item())\n",
    "print(f'dl_dw is {m.grad.item()}')\n",
    "print(f'dl_dw is {b.grad.item()}')\n"
   ]
  },
  {
   "cell_type": "code",
   "execution_count": 6,
   "id": "574b7e94",
   "metadata": {},
   "outputs": [],
   "source": [
    "x,t = torch.tensor(2), torch.tensor(5)\n",
    "\n"
   ]
  }
 ],
 "metadata": {
  "kernelspec": {
   "display_name": "matrix",
   "language": "python",
   "name": "python3"
  },
  "language_info": {
   "codemirror_mode": {
    "name": "ipython",
    "version": 3
   },
   "file_extension": ".py",
   "mimetype": "text/x-python",
   "name": "python",
   "nbconvert_exporter": "python",
   "pygments_lexer": "ipython3",
   "version": "3.12.11"
  }
 },
 "nbformat": 4,
 "nbformat_minor": 5
}
