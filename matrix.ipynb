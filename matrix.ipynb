{
 "cells": [
  {
   "cell_type": "code",
   "execution_count": 2,
   "id": "78491198",
   "metadata": {},
   "outputs": [],
   "source": [
    "import numpy as np \n",
    "import matplotlib.pyplot as plt\n",
    "import scipy as sc\n",
    "\n"
   ]
  },
  {
   "cell_type": "code",
   "execution_count": 22,
   "id": "b846afaf",
   "metadata": {},
   "outputs": [
    {
     "name": "stdout",
     "output_type": "stream",
     "text": [
      "0 1 2 3 4 5 6 7 8 \n",
      "[[-0.70240295 -0.45846343  1.35225397]\n",
      " [ 0.42533396 -0.74899045 -0.61730486]\n",
      " [-0.31382839 -1.99203933  1.13190966]\n",
      " [ 0.53456228  1.07997268  1.28618881]] \n",
      "\n",
      " [[ 0.74816687 -0.25154172]\n",
      " [-0.91313619 -0.66972043]\n",
      " [-0.7681022  -0.17264739]]\n",
      "4 3\n",
      "[[-1.14554432  0.25026285]\n",
      " [ 1.47630429  0.50120104]\n",
      " [ 0.7147849   1.21762912]\n",
      " [-1.57414481 -1.07980162]]\n",
      "\n",
      "\n",
      " [[-1.15  0.25]\n",
      " [ 1.48  0.5 ]\n",
      " [ 0.71  1.22]\n",
      " [-1.57 -1.08]]\n"
     ]
    }
   ],
   "source": [
    "for i in range(9):\n",
    "    print(i,end=' ')\n",
    "\n",
    "print()\n",
    "\n",
    "\n",
    "a = np.random.randn(4,3)\n",
    "b = np.random.randn(3,2)\n",
    "\n",
    "print(a,'\\n\\n',b)\n",
    "\n",
    "h,w = a.shape\n",
    "bh,bw = b.shape\n",
    "\n",
    "c = np.zeros((h,bw))\n",
    "\n",
    "print(h,w)\n",
    "\n",
    "for i in range(h):\n",
    "    for j in range(bw):\n",
    "        c[i,j]=0\n",
    "        for k in range(w):\n",
    "            c[i,j] += a[i][k]*b[k][j]\n",
    "\n",
    "\n",
    "print(c)\n",
    "print('\\n\\n',np.round((a@b),2))"
   ]
  },
  {
   "cell_type": "code",
   "execution_count": null,
   "id": "e37219df",
   "metadata": {},
   "outputs": [
    {
     "name": "stdout",
     "output_type": "stream",
     "text": [
      "A * A_inv:\n",
      "[[1. 0.]\n",
      " [0. 1.]]\n",
      "[[ 1. -1.]\n",
      " [-1.  2.]]\n"
     ]
    }
   ],
   "source": [
    "\n",
    "A = np.array([[1, 2],\n",
    "              [2, 4]])\n",
    "\n",
    "A_inv = np.linalg.inv(A)\n",
    "\n",
    "# Multiply A by its inverse\n",
    "verification = A @ A_inv\n",
    "\n",
    "print(\"A * A_inv:\")\n",
    "print(verification)\n",
    "print(A_inv)"
   ]
  },
  {
   "cell_type": "code",
   "execution_count": 29,
   "id": "08799893",
   "metadata": {},
   "outputs": [
    {
     "name": "stdout",
     "output_type": "stream",
     "text": [
      "[[2 1]\n",
      " [1 1]]\n",
      "[[ 1. -1.]\n",
      " [-1.  2.]]\n"
     ]
    }
   ],
   "source": [
    "A = np.array([[2, 1],\n",
    "              [1, 1]])\n",
    "print(A)\n",
    "print(np.linalg.inv(A))"
   ]
  },
  {
   "cell_type": "code",
   "execution_count": 30,
   "id": "b03da4e1",
   "metadata": {},
   "outputs": [
    {
     "data": {
      "image/png": "[encoded data removed]",
      "text/plain": [
       "<Figure size 1200x400 with 3 Axes>"
      ]
     },
     "metadata": {},
     "output_type": "display_data"
    }
   ],
   "source": [
    "\n",
    "\n",
    "# Create a grid of points\n",
    "x = np.linspace(-1.5, 1.5, 400)\n",
    "y = np.linspace(-1.5, 1.5, 400)\n",
    "X, Y = np.meshgrid(x, y)\n",
    "\n",
    "# Define norms (unit balls)\n",
    "L1 = np.abs(X) + np.abs(Y) <= 1\n",
    "L2 = X**2 + Y**2 <= 1\n",
    "Linf = np.maximum(np.abs(X), np.abs(Y)) <= 1\n",
    "\n",
    "# Plotting\n",
    "fig, axs = plt.subplots(1, 3, figsize=(12, 4))\n",
    "\n",
    "# L1 norm (diamond shape)\n",
    "axs[0].contour(X, Y, L1, levels=[0.5], colors=\"red\")\n",
    "axs[0].set_title(\"L1 Norm Unit Ball\")\n",
    "axs[0].set_aspect(\"equal\")\n",
    "\n",
    "# L2 norm (circle)\n",
    "axs[1].contour(X, Y, L2, levels=[0.5], colors=\"blue\")\n",
    "axs[1].set_title(\"L2 Norm Unit Ball\")\n",
    "axs[1].set_aspect(\"equal\")\n",
    "\n",
    "# L∞ norm (square shape)\n",
    "axs[2].contour(X, Y, Linf, levels=[0.5], colors=\"green\")\n",
    "axs[2].set_title(\"L∞ Norm Unit Ball\")\n",
    "axs[2].set_aspect(\"equal\")\n",
    "\n",
    "for ax in axs:\n",
    "    ax.set_xlim(-1.5, 1.5)\n",
    "    ax.set_ylim(-1.5, 1.5)\n",
    "    ax.axhline(0, color=\"black\", linewidth=0.5)\n",
    "    ax.axvline(0, color=\"black\", linewidth=0.5)\n",
    "\n",
    "plt.tight_layout()\n",
    "plt.show()\n"
   ]
  },
  {
   "cell_type": "code",
   "execution_count": 2,
   "id": "2278ecdb",
   "metadata": {},
   "outputs": [
    {
     "name": "stdout",
     "output_type": "stream",
     "text": [
      "[[0. 0. 0. 0. 0. 0.]\n",
      " [0. 0. 0. 0. 0. 0.]\n",
      " [0. 0. 0. 0. 0. 0.]]\n"
     ]
    }
   ],
   "source": [
    "import numpy as np \n",
    "f = np.zeros((3,6))\n",
    "\n",
    "print(f)"
   ]
  },
  {
   "cell_type": "code",
   "execution_count": 8,
   "id": "60a1377f",
   "metadata": {},
   "outputs": [
    {
     "name": "stdout",
     "output_type": "stream",
     "text": [
      "[[-3.  -1.5]\n",
      " [-1.  -0.5]\n",
      " [ 1.   0.5]\n",
      " [ 3.   1.5]]\n",
      "[[-3.  -1.   1.   3. ]\n",
      " [-1.5 -0.5  0.5  1.5]]\n",
      "(2, 4)\n",
      "[[20. 10.]\n",
      " [10.  5.]]\n",
      "[[-3.  -1.5]\n",
      " [-1.  -0.5]\n",
      " [ 1.   0.5]\n",
      " [ 3.   1.5]]\n"
     ]
    }
   ],
   "source": [
    "import numpy as np \n",
    "x= np.array([[-3,-1.5],[-1,-0.5],[1,0.5],[3,1.5]])\n",
    "print(x)\n",
    "xx = x.T\n",
    "print(xx)\n",
    "print(xx.shape)\n",
    "v = xx@x \n",
    "print(v)\n",
    "print(x)"
   ]
  },
  {
   "cell_type": "code",
   "execution_count": 8,
   "id": "97a34195",
   "metadata": {},
   "outputs": [
    {
     "name": "stdout",
     "output_type": "stream",
     "text": [
      "Iterable\n",
      "(4, 43, 2, 5, 'df', 43)\n",
      "{'er', 34, 43, 23}\n",
      "<class 'set'>\n",
      "False\n"
     ]
    }
   ],
   "source": [
    "from collections.abc import Iterable\n",
    "\n",
    "def classify(obj):\n",
    "    if isinstance(obj,(int,str,complex,bool,float)):\n",
    "        return \"scaller\"\n",
    "    elif isinstance(obj,Iterable):\n",
    "        return \"Iterable\"\n",
    "    else:\n",
    "        return \"unknown\"\n",
    "    \n",
    "\n",
    "b = (4,43,2,5,'df',43)\n",
    "\n",
    "print(classify(b))\n",
    "print(b)\n",
    "c = {23,43,'er',34,}\n",
    "print(c)\n",
    "print(type(c))\n",
    "        \n",
    "\n",
    "\n",
    "\n",
    "import numpy as np \n",
    "\n",
    "print(np.isscalar(b))"
   ]
  },
  {
   "cell_type": "code",
   "execution_count": null,
   "id": "eea14b6b",
   "metadata": {},
   "outputs": [
    {
     "name": "stdout",
     "output_type": "stream",
     "text": [
      "False\n"
     ]
    }
   ],
   "source": [
    "\n",
    "print(np.isscalar(c))"
   ]
  }
 ],
 "metadata": {
  "kernelspec": {
   "display_name": "matrix",
   "language": "python",
   "name": "python3"
  },
  "language_info": {
   "codemirror_mode": {
    "name": "ipython",
    "version": 3
   },
   "file_extension": ".py",
   "mimetype": "text/x-python",
   "name": "python",
   "nbconvert_exporter": "python",
   "pygments_lexer": "ipython3",
   "version": "3.12.11"
  }
 },
 "nbformat": 4,
 "nbformat_minor": 5
}
