{
 "cells": [
  {
   "cell_type": "code",
   "execution_count": 4,
   "id": "f4cf51d2",
   "metadata": {},
   "outputs": [],
   "source": [
    "import  numpy as np\n",
    "import pandas as pd\n",
    "import torch as to"
   ]
  },
  {
   "cell_type": "code",
   "execution_count": 5,
   "id": "c0afdc07",
   "metadata": {},
   "outputs": [
    {
     "name": "stdout",
     "output_type": "stream",
     "text": [
      "tensor([1., 1., 1., 1., 1.])\n"
     ]
    }
   ],
   "source": [
    "a = to.ones(5)\n",
    "print(a)"
   ]
  },
  {
   "cell_type": "code",
   "execution_count": 7,
   "id": "68cb3f8c",
   "metadata": {},
   "outputs": [
    {
     "data": {
      "text/plain": [
       "tensor(1.)"
      ]
     },
     "execution_count": 7,
     "metadata": {},
     "output_type": "execute_result"
    }
   ],
   "source": [
    "a[3]"
   ]
  },
  {
   "cell_type": "code",
   "execution_count": 9,
   "id": "0fc97735",
   "metadata": {},
   "outputs": [
    {
     "name": "stdout",
     "output_type": "stream",
     "text": [
      "torch.Size([4, 5])\n",
      "torch.Size([4, 2])\n",
      "tensor([[0., 0., 0., 0., 0.],\n",
      "        [0., 0., 0., 0., 0.],\n",
      "        [0., 0., 0., 0., 0.],\n",
      "        [0., 0., 0., 0., 0.]])\n",
      "tensor([[1., 1.],\n",
      "        [1., 1.],\n",
      "        [1., 1.],\n",
      "        [1., 1.]])\n"
     ]
    }
   ],
   "source": [
    "import torch\n",
    "a = torch.zeros(4,5)\n",
    "b = torch.ones(4,2)\n",
    "print(a.shape)\n",
    "print(b.shape)\n",
    "print(a)\n",
    "print(b)"
   ]
  },
  {
   "cell_type": "code",
   "execution_count": 13,
   "id": "565b5dca",
   "metadata": {},
   "outputs": [
    {
     "data": {
      "text/plain": [
       "tensor([[   3,    4,    5,    6],\n",
       "        [   3,    2,    1,    3],\n",
       "        [  35,  223,  176,   33],\n",
       "        [  35, 4352,  341,   34],\n",
       "        [  34,  245,  156,    5]])"
      ]
     },
     "execution_count": 13,
     "metadata": {},
     "output_type": "execute_result"
    }
   ],
   "source": [
    "g = torch.tensor([[3,4,5,6],[3,2,1,3],[35,223,176,33],[35,4352,341,34],[34,245,156,5]])\n",
    "g"
   ]
  },
  {
   "cell_type": "code",
   "execution_count": 28,
   "id": "e3216f01",
   "metadata": {},
   "outputs": [
    {
     "data": {
      "text/plain": [
       "(33, tensor([[223]]))"
      ]
     },
     "execution_count": 28,
     "metadata": {},
     "output_type": "execute_result"
    }
   ],
   "source": [
    "k = g[2:3, 1:2]\n",
    "k\n",
    "k = 33\n",
    "\n",
    "k, g[2:3, 1:2]"
   ]
  },
  {
   "cell_type": "code",
   "execution_count": 30,
   "id": "652ac893",
   "metadata": {},
   "outputs": [
    {
     "name": "stdout",
     "output_type": "stream",
     "text": [
      "tensor([[   3,    4,    5,    6],\n",
      "        [   3,    2,    1,    3],\n",
      "        [  35,  223,  176,   33],\n",
      "        [  35, 4352,  341,   34],\n",
      "        [  34,  245,  156,    5]])\n",
      "tensor([ 3,  3, 35, 35, 34])\n"
     ]
    }
   ],
   "source": [
    "print(g)\n",
    "print(g[0:,0])"
   ]
  },
  {
   "cell_type": "code",
   "execution_count": 31,
   "id": "3c2eab01",
   "metadata": {},
   "outputs": [
    {
     "data": {
      "text/plain": [
       "tensor([[[[1., 1., 1., 1., 1.],\n",
       "          [1., 1., 1., 1., 1.],\n",
       "          [1., 1., 1., 1., 1.],\n",
       "          [1., 1., 1., 1., 1.]],\n",
       "\n",
       "         [[1., 1., 1., 1., 1.],\n",
       "          [1., 1., 1., 1., 1.],\n",
       "          [1., 1., 1., 1., 1.],\n",
       "          [1., 1., 1., 1., 1.]],\n",
       "\n",
       "         [[1., 1., 1., 1., 1.],\n",
       "          [1., 1., 1., 1., 1.],\n",
       "          [1., 1., 1., 1., 1.],\n",
       "          [1., 1., 1., 1., 1.]]],\n",
       "\n",
       "\n",
       "        [[[1., 1., 1., 1., 1.],\n",
       "          [1., 1., 1., 1., 1.],\n",
       "          [1., 1., 1., 1., 1.],\n",
       "          [1., 1., 1., 1., 1.]],\n",
       "\n",
       "         [[1., 1., 1., 1., 1.],\n",
       "          [1., 1., 1., 1., 1.],\n",
       "          [1., 1., 1., 1., 1.],\n",
       "          [1., 1., 1., 1., 1.]],\n",
       "\n",
       "         [[1., 1., 1., 1., 1.],\n",
       "          [1., 1., 1., 1., 1.],\n",
       "          [1., 1., 1., 1., 1.],\n",
       "          [1., 1., 1., 1., 1.]]]])"
      ]
     },
     "execution_count": 31,
     "metadata": {},
     "output_type": "execute_result"
    }
   ],
   "source": [
    "b = torch.ones(2,3,4,5)\n",
    "b"
   ]
  },
  {
   "cell_type": "code",
   "execution_count": 27,
   "id": "e69347a9",
   "metadata": {},
   "outputs": [
    {
     "name": "stdout",
     "output_type": "stream",
     "text": [
      "[0, 1, 2, 3, 4, 5]\n",
      "[2, 3]\n",
      "[0, 1, 2, 3, 4]\n"
     ]
    }
   ],
   "source": [
    "a = list(range(6))\n",
    "print(a)\n",
    "print(a[2:4])\n",
    "print(a[:-1])"
   ]
  },
  {
   "cell_type": "code",
   "execution_count": 33,
   "id": "22b93de5",
   "metadata": {},
   "outputs": [
    {
     "name": "stdout",
     "output_type": "stream",
     "text": [
      "tensor([[[-0.3549,  0.4488, -0.5713,  1.6525, -2.4589],\n",
      "         [-0.0893,  1.5963,  0.6509, -1.2570, -0.3850],\n",
      "         [ 0.0838,  0.0670,  0.6948, -1.2038, -0.8058],\n",
      "         [ 0.9185,  0.1002,  0.5372,  1.3260, -1.5911],\n",
      "         [-0.5788, -1.6186, -0.7686,  0.5702, -0.0962]],\n",
      "\n",
      "        [[-2.3834, -0.9911,  0.4707,  0.2920, -1.5275],\n",
      "         [-1.0604, -1.1527,  0.0562,  2.3013,  0.4832],\n",
      "         [ 0.2334, -0.6965, -0.9887, -0.2438, -1.0209],\n",
      "         [ 1.3014,  0.8189,  1.5436,  0.1854,  0.6965],\n",
      "         [-0.4147,  0.7635,  1.0151, -2.2906, -0.9164]],\n",
      "\n",
      "        [[-1.3575,  0.0923, -0.5698,  0.3278,  0.5539],\n",
      "         [-0.3331,  0.2433, -0.4974, -0.1996, -1.0810],\n",
      "         [ 0.5464,  0.3327,  0.8216,  0.0715,  0.1902],\n",
      "         [ 2.2190,  0.0058,  2.2430,  0.7039,  0.0108],\n",
      "         [ 0.4312, -0.0929, -0.5026, -1.1276, -1.5177]]])\n",
      "tensor([0.2126, 0.7152, 0.0722])\n"
     ]
    }
   ],
   "source": [
    "img_t = torch.randn(3, 5, 5)  # [channels, rows, columns]\n",
    "weights = torch.tensor([0.2126, 0.7152, 0.0722])  # RGB → grayscale weights\n",
    "print(img_t)\n",
    "print(weights)"
   ]
  },
  {
   "cell_type": "code",
   "execution_count": 34,
   "id": "699fae5d",
   "metadata": {},
   "outputs": [
    {
     "name": "stdout",
     "output_type": "stream",
     "text": [
      "tensor([[[[-0.0670, -1.7747, -0.1998,  1.8480,  0.2020],\n",
      "          [ 1.1906, -0.3898, -1.3563,  1.3240, -0.0549],\n",
      "          [-0.2086,  1.3215, -0.5451,  0.6962,  0.4347],\n",
      "          [-2.2377,  1.2473,  0.2707,  0.2116, -0.2011],\n",
      "          [ 1.4371, -0.4656, -1.6256,  0.9355, -0.8586]],\n",
      "\n",
      "         [[ 1.4227,  0.9282, -0.2909,  1.0077,  1.2985],\n",
      "          [-1.9732, -0.1516,  0.9179, -0.2633,  0.8309],\n",
      "          [-0.6268,  1.3734,  1.3509, -0.7292, -0.5156],\n",
      "          [-0.8898,  0.5938,  0.9320,  0.6238,  1.2432],\n",
      "          [ 1.3483, -2.8810,  0.1147, -0.3915, -1.3251]],\n",
      "\n",
      "         [[-2.1973, -0.4446, -0.6006,  1.4431, -1.0965],\n",
      "          [-0.5783, -0.1434, -0.2740, -1.1474,  0.6906],\n",
      "          [-0.2625,  1.2556,  1.0107, -0.4522,  0.9831],\n",
      "          [-0.0871,  0.8788, -1.0889,  1.0032,  0.7101],\n",
      "          [-0.5738,  0.5505, -1.2281,  1.3606, -0.7170]]],\n",
      "\n",
      "\n",
      "        [[[-0.1299,  0.0258,  0.6603, -0.2224, -0.9143],\n",
      "          [ 0.1064,  0.7587,  2.0715,  0.4130,  1.7153],\n",
      "          [-0.9546, -0.9024, -0.3533,  0.8556, -0.1375],\n",
      "          [-0.1164,  0.0033, -0.2229,  0.7158,  1.0210],\n",
      "          [ 0.1735, -0.5685, -0.6163, -2.6898, -0.3244]],\n",
      "\n",
      "         [[-1.9586,  0.7244,  1.4527, -1.6130, -0.7300],\n",
      "          [ 0.2659, -0.1333, -1.5888, -0.5023,  0.9441],\n",
      "          [ 0.6583,  1.7767, -0.1740, -0.9896, -0.9029],\n",
      "          [ 0.6682, -0.1599, -0.1193, -0.2945, -1.3312],\n",
      "          [ 0.9954, -0.6056,  0.5114, -0.2942, -2.3292]],\n",
      "\n",
      "         [[ 0.6324,  1.9659,  0.1133,  0.0122, -0.3623],\n",
      "          [-0.0064, -1.1165, -0.0523, -0.2500, -0.7693],\n",
      "          [ 0.6815,  1.0102, -0.5334, -0.4299, -0.5816],\n",
      "          [ 1.3547, -0.7345, -0.8511,  0.7580,  0.8814],\n",
      "          [ 1.0450,  1.1423, -0.3441,  0.6864,  0.2180]]]])\n"
     ]
    }
   ],
   "source": [
    "batch_t = torch.randn(2, 3, 5, 5)  # [batch, channels, rows, columns]\n",
    "print(batch_t)"
   ]
  },
  {
   "cell_type": "code",
   "execution_count": 45,
   "id": "a9fbecf8",
   "metadata": {},
   "outputs": [
    {
     "name": "stdout",
     "output_type": "stream",
     "text": [
      "tensor([[[-0.2805, -0.4304, -0.3638,  1.4329,  0.1346],\n",
      "         [-0.4537, -0.2282, -0.2375, -0.0289,  0.4889],\n",
      "         [-0.3660,  1.3168,  0.6055, -0.1617,  0.3007],\n",
      "         [-1.0716,  0.9066,  0.0380,  0.6129,  0.5841],\n",
      "         [ 0.7372, -0.9320, -0.9130,  0.6349, -0.9669]],\n",
      "\n",
      "        [[-0.4853,  0.9054,  0.7421, -0.6077, -0.6688],\n",
      "         [ 0.1220, -0.1637,  0.1435, -0.1131,  0.6300],\n",
      "         [ 0.1284,  0.6282, -0.3536, -0.1880, -0.5406],\n",
      "         [ 0.6355, -0.2970, -0.3978,  0.3931,  0.1904],\n",
      "         [ 0.7380, -0.0106, -0.1497, -0.7659, -0.8119]]])\n"
     ]
    }
   ],
   "source": [
    "print(batch_t.mean(-3))"
   ]
  },
  {
   "cell_type": "code",
   "execution_count": 51,
   "id": "870c40ed",
   "metadata": {},
   "outputs": [
    {
     "name": "stdout",
     "output_type": "stream",
     "text": [
      "shape of x is torch.Size([3]) value of x is tensor([10, 20, 30])\n",
      "\n",
      "torch.Size([1, 3])\n",
      "value of x1 is tensor([10, 20, 30])\n",
      "torch.Size([3, 1])\n",
      "value of x2 is tensor([[10],\n",
      "        [20],\n",
      "        [30]])\n",
      "shape of x3 is torch.Size([3, 1, 1]) value of x is tensor([[[10]],\n",
      "\n",
      "        [[20]],\n",
      "\n",
      "        [[30]]])\n",
      "\n",
      "\n",
      "shape of x4 is torch.Size([1, 3, 1, 1]) value of x is tensor([[[[10]],\n",
      "\n",
      "         [[20]],\n",
      "\n",
      "         [[30]]]])\n",
      "\n"
     ]
    }
   ],
   "source": [
    "x = torch.tensor([10, 20, 30])  # shape (3,)\n",
    "print(f'shape of x is {x.shape} value of x is {x}\\n')\n",
    "\n",
    "x1 = x.unsqueeze(0)  # add new axis at position 0\n",
    "print(x1.shape)  # (1, 3)\n",
    "print(f'value of x1 is {x}')\n",
    "x2 = x.unsqueeze(1)  # add new axis at position 1\n",
    "print(x2.shape)  # (3, 1)\n",
    "print(f'value of x2 is {x2}')\n",
    "x3 = x2.unsqueeze(2)\n",
    "print(f'shape of x3 is {x3.shape} value of x is {x3}\\n')\n",
    "\n",
    "x4= x3.unsqueeze(0)\n",
    "print()\n",
    "print(f'shape of x4 is {x4.shape} value of x is {x4}\\n')\n"
   ]
  },
  {
   "cell_type": "code",
   "execution_count": 4,
   "id": "e5639f0d",
   "metadata": {},
   "outputs": [
    {
     "name": "stdout",
     "output_type": "stream",
     "text": [
      "tensor([[1., 1., 1., 1.],\n",
      "        [1., 1., 1., 1.],\n",
      "        [1., 1., 1., 1.],\n",
      "        [1., 1., 1., 1.],\n",
      "        [1., 1., 1., 1.]], dtype=torch.float64)\n",
      "torch.float64\n",
      "tensor([[1, 1, 1, 1],\n",
      "        [1, 1, 1, 1],\n",
      "        [1, 1, 1, 1],\n",
      "        [1, 1, 1, 1],\n",
      "        [1, 1, 1, 1]], dtype=torch.int32)\n"
     ]
    }
   ],
   "source": [
    "import torch\n",
    "sh = torch.ones(5,4, dtype=torch.double)\n",
    "print(sh)\n",
    "\n",
    "print(sh.dtype)\n",
    "\n",
    "ch = torch.ones(5,4).int()\n",
    "print(ch)"
   ]
  },
  {
   "cell_type": "code",
   "execution_count": 5,
   "id": "733c4f9b",
   "metadata": {},
   "outputs": [
    {
     "name": "stdout",
     "output_type": "stream",
     "text": [
      "tensor([[ 1.3078, -1.4329, -0.5585,  0.9202],\n",
      "        [-0.1592, -0.0633,  0.8072,  0.0798],\n",
      "        [ 0.1067,  0.5823, -0.1084, -1.2932],\n",
      "        [ 0.2228,  1.2528, -0.4771,  0.1541],\n",
      "        [ 1.2382, -0.3534,  0.3530, -0.5392]], dtype=torch.float64)\n"
     ]
    }
   ],
   "source": [
    "vp = torch.randn(5,4).to(torch.float64)\n",
    "print(vp)"
   ]
  },
  {
   "cell_type": "code",
   "execution_count": 6,
   "id": "0bec3bd9",
   "metadata": {},
   "outputs": [
    {
     "name": "stdout",
     "output_type": "stream",
     "text": [
      "tensor([0.3467, 0.8935, 0.5414, 0.2833, 0.2899], dtype=torch.float64)\n"
     ]
    }
   ],
   "source": [
    "points_64 = torch.rand(5, dtype=torch.double)\n",
    "print(points_64)"
   ]
  },
  {
   "cell_type": "code",
   "execution_count": 9,
   "id": "f4ae264e",
   "metadata": {},
   "outputs": [
    {
     "name": "stdout",
     "output_type": "stream",
     "text": [
      "tensor([[5.0000, 5.1000, 5.2000, 5.3000, 5.4000],\n",
      "        [5.5000, 5.6000, 5.7000, 5.8000, 5.9000],\n",
      "        [6.0000, 6.1000, 6.2000, 6.3000, 6.4000],\n",
      "        [6.5000, 6.6000, 6.7000, 6.8000, 6.9000],\n",
      "        [7.0000, 7.1000, 7.2000, 7.3000, 7.4000],\n",
      "        [7.5000, 7.6000, 7.7000, 7.8000, 7.9000],\n",
      "        [8.0000, 8.1000, 8.2000, 8.3000, 8.4000],\n",
      "        [8.5000, 8.6000, 8.7000, 8.8000, 8.9000],\n",
      "        [9.0000, 9.1000, 9.2000, 9.3000, 9.4000],\n",
      "        [9.5000, 9.6000, 9.7000, 9.8000, 9.9000]])\n"
     ]
    }
   ],
   "source": [
    "arr = torch.arange(5,10,0.1).reshape(-1,5)\n",
    "print(arr)"
   ]
  },
  {
   "cell_type": "code",
   "execution_count": 11,
   "id": "f487dfdd",
   "metadata": {},
   "outputs": [
    {
     "name": "stdout",
     "output_type": "stream",
     "text": [
      "tensor([[5.0000, 5.5000, 6.0000, 6.5000, 7.0000, 7.5000, 8.0000, 8.5000, 9.0000,\n",
      "         9.5000],\n",
      "        [5.1000, 5.6000, 6.1000, 6.6000, 7.1000, 7.6000, 8.1000, 8.6000, 9.1000,\n",
      "         9.6000],\n",
      "        [5.2000, 5.7000, 6.2000, 6.7000, 7.2000, 7.7000, 8.2000, 8.7000, 9.2000,\n",
      "         9.7000],\n",
      "        [5.3000, 5.8000, 6.3000, 6.8000, 7.3000, 7.8000, 8.3000, 8.8000, 9.3000,\n",
      "         9.8000],\n",
      "        [5.4000, 5.9000, 6.4000, 6.9000, 7.4000, 7.9000, 8.4000, 8.9000, 9.4000,\n",
      "         9.9000]])\n",
      "tensor([[5.0000, 5.1000, 5.2000, 5.3000, 5.4000],\n",
      "        [5.5000, 5.6000, 5.7000, 5.8000, 5.9000],\n",
      "        [6.0000, 6.1000, 6.2000, 6.3000, 6.4000],\n",
      "        [6.5000, 6.6000, 6.7000, 6.8000, 6.9000],\n",
      "        [7.0000, 7.1000, 7.2000, 7.3000, 7.4000],\n",
      "        [7.5000, 7.6000, 7.7000, 7.8000, 7.9000],\n",
      "        [8.0000, 8.1000, 8.2000, 8.3000, 8.4000],\n",
      "        [8.5000, 8.6000, 8.7000, 8.8000, 8.9000],\n",
      "        [9.0000, 9.1000, 9.2000, 9.3000, 9.4000],\n",
      "        [9.5000, 9.6000, 9.7000, 9.8000, 9.9000],\n",
      "        [5.0000, 5.1000, 5.2000, 5.3000, 5.4000],\n",
      "        [5.5000, 5.6000, 5.7000, 5.8000, 5.9000],\n",
      "        [6.0000, 6.1000, 6.2000, 6.3000, 6.4000],\n",
      "        [6.5000, 6.6000, 6.7000, 6.8000, 6.9000],\n",
      "        [7.0000, 7.1000, 7.2000, 7.3000, 7.4000],\n",
      "        [7.5000, 7.6000, 7.7000, 7.8000, 7.9000],\n",
      "        [8.0000, 8.1000, 8.2000, 8.3000, 8.4000],\n",
      "        [8.5000, 8.6000, 8.7000, 8.8000, 8.9000],\n",
      "        [9.0000, 9.1000, 9.2000, 9.3000, 9.4000],\n",
      "        [9.5000, 9.6000, 9.7000, 9.8000, 9.9000]])\n"
     ]
    }
   ],
   "source": [
    "a_t = arr.transpose(0,1)\n",
    "print(a_t)\n",
    "rch = torch.cat([arr,arr],dim=0)\n",
    "print(rch)"
   ]
  },
  {
   "cell_type": "code",
   "execution_count": 16,
   "id": "b4afc58f",
   "metadata": {},
   "outputs": [
    {
     "name": "stdout",
     "output_type": "stream",
     "text": [
      "tensor([[ 0,  1,  2,  3],\n",
      "        [ 4,  5,  6,  7],\n",
      "        [ 8,  9, 10, 11]])\n",
      "shape: torch.Size([3, 4])\n",
      "stride: (4, 1)\n",
      "tensor([[ 0,  4,  8],\n",
      "        [ 1,  5,  9],\n",
      "        [ 2,  6, 10],\n",
      "        [ 3,  7, 11]])\n",
      "torch.Size([4, 3])\n",
      "(1, 4)\n"
     ]
    }
   ],
   "source": [
    "x = torch.arange(12).reshape(3, 4)\n",
    "print(x)\n",
    "print(\"shape:\", x.shape)\n",
    "print(\"stride:\", x.stride())\n",
    "\n",
    "\n",
    "y = x.t()  # transpose\n",
    "print(y)\n",
    "print(y.shape)\n",
    "print(y.stride())"
   ]
  },
  {
   "cell_type": "code",
   "execution_count": 18,
   "id": "94c42629",
   "metadata": {},
   "outputs": [
    {
     "name": "stdout",
     "output_type": "stream",
     "text": [
      "tensor([-3,  6, -3]),\n",
      "3.0\n"
     ]
    }
   ],
   "source": [
    "f= torch.cross(torch.tensor([2,3,4]), torch.tensor([5,6,7]))  # cross product\n",
    "g = torch.trace(torch.eye(3))  # trace = sum of diagonal elements → 3\n",
    "print(f'{f},\\n{g}')"
   ]
  },
  {
   "cell_type": "code",
   "execution_count": 25,
   "id": "e442151f",
   "metadata": {},
   "outputs": [
    {
     "name": "stdout",
     "output_type": "stream",
     "text": [
      "tensor([[2.0454, 2.8944, 2.4492, 2.1653, 2.0818],\n",
      "        [2.7015, 2.9117, 2.4685, 2.3984, 2.0883],\n",
      "        [2.9548, 2.7539, 2.8108, 2.5858, 2.6286],\n",
      "        [2.7106, 2.4021, 2.7025, 2.0645, 2.7997]])\n",
      "tensor([[0.6446, 0.6919, 0.9264, 0.8844, 1.1242, 0.9906, 0.9061],\n",
      "        [1.1077, 1.1600, 1.6070, 1.7872, 1.5211, 1.6442, 1.0852],\n",
      "        [1.6329, 1.6808, 2.5387, 2.5053, 2.2027, 2.1489, 1.2649],\n",
      "        [1.3016, 1.0632, 1.9770, 1.6025, 1.5134, 1.2859, 0.9323]])\n"
     ]
    }
   ],
   "source": [
    "f = torch.rand(4,5)\n",
    "g= torch.rand(5,7)\n",
    "c = f + 2\n",
    "print(c)\n",
    "h = torch.mm(f,g)\n",
    "print(h)\n",
    "\n",
    "torch.save(h, 'tensor2.pt')\n"
   ]
  },
  {
   "cell_type": "code",
   "execution_count": 26,
   "id": "51b3dd2a",
   "metadata": {},
   "outputs": [
    {
     "name": "stdout",
     "output_type": "stream",
     "text": [
      "tensor([[0.6446, 0.6919, 0.9264, 0.8844, 1.1242, 0.9906, 0.9061],\n",
      "        [1.1077, 1.1600, 1.6070, 1.7872, 1.5211, 1.6442, 1.0852],\n",
      "        [1.6329, 1.6808, 2.5387, 2.5053, 2.2027, 2.1489, 1.2649],\n",
      "        [1.3016, 1.0632, 1.9770, 1.6025, 1.5134, 1.2859, 0.9323]])\n"
     ]
    },
    {
     "name": "stderr",
     "output_type": "stream",
     "text": [
      "C:\\Users\\khesr\\AppData\\Local\\Temp\\ipykernel_14292\\2061844681.py:1: FutureWarning: You are using `torch.load` with `weights_only=False` (the current default value), which uses the default pickle module implicitly. It is possible to construct malicious pickle data which will execute arbitrary code during unpickling (See https://github.com/pytorch/pytorch/blob/main/SECURITY.md#untrusted-models for more details). In a future release, the default value for `weights_only` will be flipped to `True`. This limits the functions that could be executed during unpickling. Arbitrary objects will no longer be allowed to be loaded via this mode unless they are explicitly allowlisted by the user via `torch.serialization.add_safe_globals`. We recommend you start setting `weights_only=True` for any use case where you don't have full control of the loaded file. Please open an issue on GitHub for any issues related to this experimental feature.\n",
      "  c = torch.load('tensor2.pt')\n"
     ]
    }
   ],
   "source": [
    "c = torch.load('tensor2.pt')\n",
    "print(c)"
   ]
  },
  {
   "cell_type": "code",
   "execution_count": 28,
   "id": "aa5a85fd",
   "metadata": {},
   "outputs": [
    {
     "name": "stdout",
     "output_type": "stream",
     "text": [
      " 4\n",
      " 1\n",
      " 5\n",
      " 3\n",
      " 2\n",
      " 1\n",
      " 3\n",
      " 2\n",
      " 1\n",
      "[torch.storage.TypedStorage(dtype=torch.int64, device=cpu) of size 9]\n"
     ]
    }
   ],
   "source": [
    "x = torch.tensor([[4, 1, 5],\n",
    "                  [3, 2, 1],\n",
    "                  [3, 2, 1]])\n",
    "print(x.storage())\n",
    "# e.g.  4.0, 1.0, 5.0, 3.0, 2.0, 1.0\n"
   ]
  },
  {
   "cell_type": "code",
   "execution_count": 29,
   "id": "d12a1d05",
   "metadata": {},
   "outputs": [
    {
     "name": "stdout",
     "output_type": "stream",
     "text": [
      "tensor([[4, 1, 5],\n",
      "        [3, 2, 1]])\n",
      " 4\n",
      " 1\n",
      " 5\n",
      " 3\n",
      " 2\n",
      " 1\n",
      "[torch.storage.TypedStorage(dtype=torch.int64, device=cpu) of size 6]\n",
      "(3, 1)\n",
      "tensor([[4, 3],\n",
      "        [1, 2],\n",
      "        [5, 1]])\n",
      " 4\n",
      " 1\n",
      " 5\n",
      " 3\n",
      " 2\n",
      " 1\n",
      "[torch.storage.TypedStorage(dtype=torch.int64, device=cpu) of size 6]\n",
      "(1, 3)\n"
     ]
    }
   ],
   "source": [
    "a = torch.tensor([[4, 1, 5],\n",
    "                  [3, 2, 1],])\n",
    "\n",
    "print(a)\n",
    "print(a.storage())\n",
    "print(a.stride())\n",
    "print(a.t())\n",
    "print(a.t().storage())\n",
    "print(a.t().stride())"
   ]
  },
  {
   "cell_type": "code",
   "execution_count": 32,
   "id": "d9a24474",
   "metadata": {},
   "outputs": [
    {
     "name": "stdout",
     "output_type": "stream",
     "text": [
      "tensor([3, 4, 5]) sparse printing\n",
      "\n",
      "\n",
      " tensor(indices=tensor([[0, 1, 1],\n",
      "                       [2, 0, 2]]),\n",
      "       values=tensor([3, 4, 5]),\n",
      "       size=(2, 3), nnz=3, layout=torch.sparse_coo)\n"
     ]
    }
   ],
   "source": [
    "i = torch.tensor([[0, 1, 1], [2, 0, 2]])  # indices\n",
    "v = torch.tensor([3, 4, 5])               # values\n",
    "sparse = torch.sparse_coo_tensor(i, v, (2, 3))\n",
    "\n",
    "print(v,'sparse printing\\n\\n\\n', sparse)"
   ]
  }
 ],
 "metadata": {
  "kernelspec": {
   "display_name": "matrix",
   "language": "python",
   "name": "python3"
  },
  "language_info": {
   "codemirror_mode": {
    "name": "ipython",
    "version": 3
   },
   "file_extension": ".py",
   "mimetype": "text/x-python",
   "name": "python",
   "nbconvert_exporter": "python",
   "pygments_lexer": "ipython3",
   "version": "3.12.11"
  }
 },
 "nbformat": 4,
 "nbformat_minor": 5
}
